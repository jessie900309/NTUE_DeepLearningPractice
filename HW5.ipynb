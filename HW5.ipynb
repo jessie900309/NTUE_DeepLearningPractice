{
 "cells": [
  {
   "cell_type": "markdown",
   "id": "8b31a0cd",
   "metadata": {},
   "source": [
    "### HW 5-1 下載mnist圖片庫"
   ]
  },
  {
   "cell_type": "code",
   "execution_count": 1,
   "id": "9cde706c",
   "metadata": {},
   "outputs": [],
   "source": [
    "import numpy as np\n",
    "import pandas as pd\n",
    "from keras.utils import np_utils"
   ]
  },
  {
   "cell_type": "code",
   "execution_count": 2,
   "id": "1a53c554",
   "metadata": {},
   "outputs": [],
   "source": [
    "from keras.datasets import mnist"
   ]
  },
  {
   "cell_type": "code",
   "execution_count": 3,
   "id": "81c5c29a",
   "metadata": {},
   "outputs": [
    {
     "name": "stdout",
     "output_type": "stream",
     "text": [
      "train data :  60000\n",
      "test data :  10000\n"
     ]
    }
   ],
   "source": [
    "(x_train_image, y_train_label), (x_test_image, y_test_labeel) = mnist.load_data()\n",
    "print(\"train data : \", len(x_train_image))\n",
    "print(\"test data : \", len(x_test_image))"
   ]
  },
  {
   "cell_type": "markdown",
   "id": "99f20084",
   "metadata": {},
   "source": [
    "### HW 5-2 SHOW圖片"
   ]
  },
  {
   "cell_type": "code",
   "execution_count": 4,
   "id": "9931d71c",
   "metadata": {},
   "outputs": [],
   "source": [
    "import matplotlib.pyplot as plt"
   ]
  },
  {
   "cell_type": "code",
   "execution_count": 5,
   "id": "acd8dc9f",
   "metadata": {},
   "outputs": [
    {
     "data": {
      "image/png": "[encoded data removed]",
      "text/plain": [
       "<Figure size 200x200 with 1 Axes>"
      ]
     },
     "metadata": {},
     "output_type": "display_data"
    }
   ],
   "source": [
    "fig = plt.gcf()\n",
    "fig.set_size_inches(2,2)\n",
    "plt.imshow(x_train_image[5], cmap='binary')\n",
    "plt.show()"
   ]
  },
  {
   "cell_type": "markdown",
   "id": "0b28a676",
   "metadata": {},
   "source": [
    "### HW 5-3 操作圖片資料格式程式"
   ]
  },
  {
   "cell_type": "code",
   "execution_count": 9,
   "id": "66734856",
   "metadata": {},
   "outputs": [
    {
     "name": "stdout",
     "output_type": "stream",
     "text": [
      "17\n"
     ]
    }
   ],
   "source": [
    "# find number 8\n",
    "for idx in range(len(y_train_label)):\n",
    "    value = y_train_label[idx]\n",
    "    if value == 8:\n",
    "        print(idx)\n",
    "        break"
   ]
  },
  {
   "cell_type": "code",
   "execution_count": 11,
   "id": "0b8a0983",
   "metadata": {},
   "outputs": [
    {
     "data": {
      "image/png": "[encoded data removed]",
      "text/plain": [
       "<Figure size 200x200 with 1 Axes>"
      ]
     },
     "metadata": {},
     "output_type": "display_data"
    }
   ],
   "source": [
    "fig = plt.gcf()\n",
    "fig.set_size_inches(2,2)\n",
    "plt.imshow(x_train_image[17], cmap='binary')\n",
    "plt.show()"
   ]
  },
  {
   "cell_type": "code",
   "execution_count": 12,
   "id": "3a6ac348",
   "metadata": {},
   "outputs": [
    {
     "name": "stdout",
     "output_type": "stream",
     "text": [
      "(60000, 28, 28)\n",
      "(28, 28)\n",
      "253\n"
     ]
    }
   ],
   "source": [
    "print(x_train_image.shape)\n",
    "print(x_train_image[17].shape)\n",
    "print(x_train_image[17][14][14])"
   ]
  },
  {
   "cell_type": "markdown",
   "id": "ad30f617",
   "metadata": {},
   "source": [
    "### HW 5-4 自製圖片程式"
   ]
  },
  {
   "cell_type": "code",
   "execution_count": 16,
   "id": "7528f17b",
   "metadata": {},
   "outputs": [
    {
     "name": "stdout",
     "output_type": "stream",
     "text": [
      "[[  0   0   0   0   0   0]\n",
      " [ 20  20  20  20  20  20]\n",
      " [ 40  40  40  40  40  40]\n",
      " [ 60  60  60  60  60  60]\n",
      " [ 80  80  80  80  80  80]\n",
      " [100 100 100 100 100 100]]\n"
     ]
    }
   ],
   "source": [
    "my_image = np.zeros([1, 6], dtype = np.uint8)\n",
    "for num in range(1, 6):\n",
    "    pixel = num*20\n",
    "    row = np.ones([1, 6], dtype = np.uint8)*pixel\n",
    "    my_image = np.append(my_image, row, axis=0)\n",
    "print(my_image)"
   ]
  },
  {
   "cell_type": "code",
   "execution_count": 17,
   "id": "8d55bf06",
   "metadata": {},
   "outputs": [
    {
     "data": {
      "image/png": "[encoded data removed]",
      "text/plain": [
       "<Figure size 200x200 with 1 Axes>"
      ]
     },
     "metadata": {},
     "output_type": "display_data"
    }
   ],
   "source": [
    "fig = plt.gcf()\n",
    "fig.set_size_inches(2,2)\n",
    "plt.imshow(my_image, cmap='binary')\n",
    "plt.show()"
   ]
  },
  {
   "cell_type": "code",
   "execution_count": 32,
   "id": "8a1bfef0",
   "metadata": {},
   "outputs": [],
   "source": [
    "my_number = [\n",
    "    [0, 0, 0, 0, 0, 0, 0],\n",
    "    [0, 100, 100, 100, 100, 100, 0],\n",
    "    [0, 0, 0, 0, 0, 100, 0],\n",
    "    [0, 100, 100, 100, 100, 100, 0],\n",
    "    [0, 100, 0, 0, 0, 0, 0],\n",
    "    [0, 100, 100, 100, 100, 100, 0],\n",
    "    [0, 0, 0, 0, 0, 0, 0],\n",
    "]"
   ]
  },
  {
   "cell_type": "code",
   "execution_count": 33,
   "id": "14de74d8",
   "metadata": {},
   "outputs": [
    {
     "data": {
      "image/png": "[encoded data removed]",
      "text/plain": [
       "<Figure size 200x200 with 1 Axes>"
      ]
     },
     "metadata": {},
     "output_type": "display_data"
    }
   ],
   "source": [
    "fig = plt.gcf()\n",
    "fig.set_size_inches(2,2)\n",
    "plt.imshow(my_number, cmap='binary')\n",
    "plt.show()"
   ]
  },
  {
   "cell_type": "markdown",
   "id": "5f782ff2",
   "metadata": {},
   "source": [
    "### HW 5-5 實作STEP.1資料預處理程式_下載資料"
   ]
  },
  {
   "cell_type": "code",
   "execution_count": 18,
   "id": "38f097f3",
   "metadata": {},
   "outputs": [
    {
     "data": {
      "image/png": "[encoded data removed]",
      "text/plain": [
       "<Figure size 200x200 with 1 Axes>"
      ]
     },
     "metadata": {},
     "output_type": "display_data"
    }
   ],
   "source": [
    "fig = plt.gcf()\n",
    "fig.set_size_inches(2,2)\n",
    "plt.imshow(x_train_image[250], cmap='binary')\n",
    "plt.show()"
   ]
  },
  {
   "cell_type": "code",
   "execution_count": 19,
   "id": "e5ac52c0",
   "metadata": {},
   "outputs": [
    {
     "name": "stdout",
     "output_type": "stream",
     "text": [
      "3\n"
     ]
    }
   ],
   "source": [
    "print(y_train_label[250])"
   ]
  },
  {
   "cell_type": "markdown",
   "id": "70763522",
   "metadata": {},
   "source": [
    "### HW 5-6 實作STEP.1資料預處理程式"
   ]
  },
  {
   "cell_type": "code",
   "execution_count": 26,
   "id": "fd2346be",
   "metadata": {},
   "outputs": [],
   "source": [
    "set_imgIndex = 300"
   ]
  },
  {
   "cell_type": "code",
   "execution_count": 27,
   "id": "f5e56116",
   "metadata": {},
   "outputs": [
    {
     "name": "stdout",
     "output_type": "stream",
     "text": [
      "x_train_image shape :  (60000, 28, 28)\n",
      "[  0   0   0   0   0   0   0   0   0   0   0  60 249 254 254 128   0   0\n",
      "   0   0   0   0   0   0   0   0   0   0]\n",
      "X_train       shape :  (60000, 784)\n",
      "[  0.   0.   0.   0.   0.   0.   0.   0.   0.   0.   0.  60. 249. 254.\n",
      " 254. 128.   0.   0.   0.   0.   0.   0.   0.   0.   0.   0.   0.   0.]\n"
     ]
    }
   ],
   "source": [
    "X_train = x_train_image.reshape(60000, 28*28).astype('float32')\n",
    "print(\"x_train_image shape : \", x_train_image.shape)\n",
    "print(x_train_image[set_imgIndex][14])\n",
    "print(\"X_train       shape : \", X_train.shape)\n",
    "print(X_train[set_imgIndex][(28*14):(28*14+28)])"
   ]
  },
  {
   "cell_type": "code",
   "execution_count": 28,
   "id": "88bbeede",
   "metadata": {},
   "outputs": [
    {
     "name": "stdout",
     "output_type": "stream",
     "text": [
      "X_train_norm  shape :  (60000, 784)\n",
      "[0.         0.         0.         0.         0.         0.\n",
      " 0.         0.         0.         0.         0.         0.23529412\n",
      " 0.9764706  0.99607843 0.99607843 0.5019608  0.         0.\n",
      " 0.         0.         0.         0.         0.         0.\n",
      " 0.         0.         0.         0.        ]\n"
     ]
    }
   ],
   "source": [
    "X_train_norm = X_train/255\n",
    "print(\"X_train_norm  shape : \", X_train_norm.shape)\n",
    "print(X_train_norm[set_imgIndex][(28*14):(28*14+28)])"
   ]
  }
 ],
 "metadata": {
  "kernelspec": {
   "display_name": "Python 3 (ipykernel)",
   "language": "python",
   "name": "python3"
  },
  "language_info": {
   "codemirror_mode": {
    "name": "ipython",
    "version": 3
   },
   "file_extension": ".py",
   "mimetype": "text/x-python",
   "name": "python",
   "nbconvert_exporter": "python",
   "pygments_lexer": "ipython3",
   "version": "3.7.13"
  }
 },
 "nbformat": 4,
 "nbformat_minor": 5
}
