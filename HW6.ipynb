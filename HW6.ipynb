{
 "cells": [
  {
   "cell_type": "markdown",
   "id": "01c164f1",
   "metadata": {},
   "source": [
    "### HW 6-1 顯示資料集內容"
   ]
  },
  {
   "cell_type": "code",
   "execution_count": 1,
   "id": "3f87addb",
   "metadata": {},
   "outputs": [],
   "source": [
    "import numpy as np\n",
    "from keras.utils import np_utils\n",
    "from keras.datasets import mnist\n",
    "import matplotlib.pyplot as plt"
   ]
  },
  {
   "cell_type": "code",
   "execution_count": 2,
   "id": "79fd5a24",
   "metadata": {},
   "outputs": [],
   "source": [
    "(x_train_image, y_train_label), (x_test_image, y_test_label) = mnist.load_data()\n",
    "# print(\"train data : \", len(x_train_image))\n",
    "# print(\"test data : \", len(x_test_image))"
   ]
  },
  {
   "cell_type": "code",
   "execution_count": 3,
   "id": "ace1a8ff",
   "metadata": {},
   "outputs": [
    {
     "name": "stdout",
     "output_type": "stream",
     "text": [
      "y_train_label[100] = 5\n"
     ]
    },
    {
     "data": {
      "image/png": "[encoded data removed]",
      "text/plain": [
       "<Figure size 200x200 with 1 Axes>"
      ]
     },
     "metadata": {},
     "output_type": "display_data"
    }
   ],
   "source": [
    "print(f\"y_train_label[100] = {y_train_label[100]}\")\n",
    "fig = plt.gcf()\n",
    "fig.set_size_inches(2,2)\n",
    "plt.imshow(x_train_image[100], cmap='binary')\n",
    "plt.show()"
   ]
  },
  {
   "cell_type": "code",
   "execution_count": 4,
   "id": "36d7e6f2",
   "metadata": {},
   "outputs": [
    {
     "name": "stdout",
     "output_type": "stream",
     "text": [
      "y_test_label[20] = 9\n"
     ]
    },
    {
     "data": {
      "image/png": "[encoded data removed]",
      "text/plain": [
       "<Figure size 200x200 with 1 Axes>"
      ]
     },
     "metadata": {},
     "output_type": "display_data"
    }
   ],
   "source": [
    "print(f\"y_test_label[20] = {y_test_label[20]}\")\n",
    "fig = plt.gcf()\n",
    "fig.set_size_inches(2,2)\n",
    "plt.imshow(x_test_image[20], cmap='binary')\n",
    "plt.show()"
   ]
  },
  {
   "cell_type": "markdown",
   "id": "a57ba09f",
   "metadata": {},
   "source": [
    "### HW 6-2 資料預處理"
   ]
  },
  {
   "cell_type": "code",
   "execution_count": 5,
   "id": "6a0bf255",
   "metadata": {},
   "outputs": [
    {
     "name": "stdout",
     "output_type": "stream",
     "text": [
      "x_train_image shape :  (60000, 28, 28)\n",
      "X_train       shape :  (60000, 784)\n",
      "x_test_image  shape :  (10000, 28, 28)\n",
      "X_test        shape :  (10000, 784)\n",
      "--------------------------------------------\n",
      "X_train_norm  shape :  (60000, 784)\n",
      "X_test_norm  shape :  (10000, 784)\n"
     ]
    }
   ],
   "source": [
    "X_train = x_train_image.reshape(60000, 28*28).astype('float32')\n",
    "print(\"x_train_image shape : \", x_train_image.shape)\n",
    "print(\"X_train       shape : \", X_train.shape)\n",
    "X_test = x_test_image.reshape(10000, 28*28).astype('float32')\n",
    "print(\"x_test_image  shape : \", x_test_image.shape)\n",
    "print(\"X_test        shape : \", X_test.shape)\n",
    "print(\"--------------------------------------------\")\n",
    "X_train_norm = X_train/255\n",
    "X_test_norm = X_test/255\n",
    "print(\"X_train_norm  shape : \", X_train_norm.shape)\n",
    "print(\"X_test_norm  shape : \", X_test_norm.shape)"
   ]
  },
  {
   "cell_type": "code",
   "execution_count": 6,
   "id": "6a0cc0e0",
   "metadata": {},
   "outputs": [
    {
     "name": "stdout",
     "output_type": "stream",
     "text": [
      "4\n",
      "[0. 0. 0. 0. 1. 0. 0. 0. 0. 0.]\n",
      "9\n",
      "[0. 0. 0. 0. 0. 0. 0. 0. 0. 1.]\n"
     ]
    }
   ],
   "source": [
    "y_train_OneHot = np_utils.to_categorical(y_train_label)\n",
    "y_test_OneHot = np_utils.to_categorical(y_test_label)\n",
    "print(y_train_label[150])\n",
    "print(y_train_OneHot[150])\n",
    "print(y_test_label[150])\n",
    "print(y_test_OneHot[150])"
   ]
  },
  {
   "cell_type": "markdown",
   "id": "ab6182d1",
   "metadata": {},
   "source": [
    "### HW 6-3 佈署類神經網路"
   ]
  },
  {
   "cell_type": "code",
   "execution_count": 7,
   "id": "179b861d",
   "metadata": {},
   "outputs": [],
   "source": [
    "from keras.models import Sequential\n",
    "from keras.layers import Dense"
   ]
  },
  {
   "cell_type": "code",
   "execution_count": 8,
   "id": "087e94f4",
   "metadata": {},
   "outputs": [
    {
     "name": "stdout",
     "output_type": "stream",
     "text": [
      "Model: \"sequential\"\n",
      "_________________________________________________________________\n",
      " Layer (type)                Output Shape              Param #   \n",
      "=================================================================\n",
      " dense (Dense)               (None, 256)               200960    \n",
      "                                                                 \n",
      " dense_1 (Dense)             (None, 10)                2570      \n",
      "                                                                 \n",
      "=================================================================\n",
      "Total params: 203,530\n",
      "Trainable params: 203,530\n",
      "Non-trainable params: 0\n",
      "_________________________________________________________________\n",
      "None\n"
     ]
    }
   ],
   "source": [
    "myadel = Sequential()\n",
    "myadel.add(Dense(units=256, input_dim=784, kernel_initializer='normal', activation='relu'))\n",
    "myadel.add(Dense(units=10, kernel_initializer='normal', activation='softmax'))\n",
    "print(myadel.summary())"
   ]
  },
  {
   "cell_type": "markdown",
   "id": "1f674f02",
   "metadata": {},
   "source": [
    "### HW 6-4 訓練類神經網路模型"
   ]
  },
  {
   "cell_type": "code",
   "execution_count": 9,
   "id": "6dcc2a2f",
   "metadata": {},
   "outputs": [
    {
     "name": "stdout",
     "output_type": "stream",
     "text": [
      "Epoch 1/10\n",
      "240/240 - 4s - loss: 0.4426 - accuracy: 0.8812 - val_loss: 0.2235 - val_accuracy: 0.9366 - 4s/epoch - 19ms/step\n",
      "Epoch 2/10\n",
      "240/240 - 1s - loss: 0.1874 - accuracy: 0.9464 - val_loss: 0.1550 - val_accuracy: 0.9568 - 832ms/epoch - 3ms/step\n",
      "Epoch 3/10\n",
      "240/240 - 1s - loss: 0.1331 - accuracy: 0.9620 - val_loss: 0.1286 - val_accuracy: 0.9627 - 876ms/epoch - 4ms/step\n",
      "Epoch 4/10\n",
      "240/240 - 1s - loss: 0.1018 - accuracy: 0.9711 - val_loss: 0.1098 - val_accuracy: 0.9686 - 801ms/epoch - 3ms/step\n",
      "Epoch 5/10\n",
      "240/240 - 1s - loss: 0.0812 - accuracy: 0.9769 - val_loss: 0.0974 - val_accuracy: 0.9703 - 803ms/epoch - 3ms/step\n",
      "Epoch 6/10\n",
      "240/240 - 1s - loss: 0.0648 - accuracy: 0.9817 - val_loss: 0.0971 - val_accuracy: 0.9715 - 756ms/epoch - 3ms/step\n",
      "Epoch 7/10\n",
      "240/240 - 1s - loss: 0.0542 - accuracy: 0.9848 - val_loss: 0.0851 - val_accuracy: 0.9738 - 811ms/epoch - 3ms/step\n",
      "Epoch 8/10\n",
      "240/240 - 1s - loss: 0.0448 - accuracy: 0.9877 - val_loss: 0.0823 - val_accuracy: 0.9748 - 776ms/epoch - 3ms/step\n",
      "Epoch 9/10\n",
      "240/240 - 1s - loss: 0.0375 - accuracy: 0.9900 - val_loss: 0.0789 - val_accuracy: 0.9769 - 748ms/epoch - 3ms/step\n",
      "Epoch 10/10\n",
      "240/240 - 1s - loss: 0.0309 - accuracy: 0.9921 - val_loss: 0.0806 - val_accuracy: 0.9747 - 737ms/epoch - 3ms/step\n"
     ]
    },
    {
     "data": {
      "text/plain": [
       "<keras.callbacks.History at 0x2a3051d8b50>"
      ]
     },
     "execution_count": 9,
     "metadata": {},
     "output_type": "execute_result"
    }
   ],
   "source": [
    "myadel.compile(loss='categorical_crossentropy', optimizer='adam', metrics=['accuracy'])\n",
    "myadel.fit(x=X_train_norm, y=y_train_OneHot, validation_split=0.2, epochs=10, batch_size=200, verbose=2)"
   ]
  },
  {
   "cell_type": "markdown",
   "id": "9b038e07",
   "metadata": {},
   "source": [
    "### HW 6-5 訓練參數"
   ]
  },
  {
   "cell_type": "code",
   "execution_count": 10,
   "id": "ef5d6ce5",
   "metadata": {},
   "outputs": [
    {
     "name": "stdout",
     "output_type": "stream",
     "text": [
      "313/313 [==============================] - 1s 3ms/step - loss: 0.0685 - accuracy: 0.9792\n",
      "0.979200005531311\n"
     ]
    }
   ],
   "source": [
    "scores = myadel.evaluate(X_test_norm, y_test_OneHot)\n",
    "print(scores[1])"
   ]
  },
  {
   "cell_type": "markdown",
   "id": "10c8bdbb",
   "metadata": {},
   "source": [
    "### HW 6-5 訓練參數(調整)"
   ]
  },
  {
   "cell_type": "code",
   "execution_count": 11,
   "id": "f7d10f58",
   "metadata": {},
   "outputs": [],
   "source": [
    "# myadel = Sequential()\n",
    "# myadel.add(Dense(units=256, input_dim=784, kernel_initializer='normal', activation='relu'))\n",
    "# myadel.add(Dense(units=10, kernel_initializer='normal', activation='softmax'))\n",
    "# myadel.compile(loss='categorical_crossentropy', optimizer='adam', metrics=['accuracy'])\n",
    "# myadel.fit(x=X_train_norm, y=y_train_OneHot, validation_split=0.2, epochs=50, batch_size=200, verbose=0)\n",
    "# scores = myadel.evaluate(X_test_norm, y_test_OneHot)\n",
    "# print(scores[1])"
   ]
  },
  {
   "cell_type": "code",
   "execution_count": 12,
   "id": "8fae521a",
   "metadata": {},
   "outputs": [
    {
     "name": "stdout",
     "output_type": "stream",
     "text": [
      "313/313 [==============================] - 1s 2ms/step - loss: 0.0965 - accuracy: 0.9821\n",
      "0.9821000099182129\n"
     ]
    }
   ],
   "source": [
    "myadel = Sequential()\n",
    "myadel.add(Dense(units=256, input_dim=784, kernel_initializer='normal', activation='relu6'))\n",
    "myadel.add(Dense(units=10, kernel_initializer='normal', activation='softmax'))\n",
    "myadel.compile(loss='categorical_crossentropy', optimizer='adam', metrics=['accuracy'])\n",
    "myadel.fit(x=X_train_norm, y=y_train_OneHot, validation_split=0.1, epochs=50, batch_size=100, verbose=0)\n",
    "scores = myadel.evaluate(X_test_norm, y_test_OneHot)\n",
    "print(scores[1])"
   ]
  },
  {
   "cell_type": "markdown",
   "id": "96a738cf",
   "metadata": {},
   "source": [
    "### HW 6-6 儲存模型"
   ]
  },
  {
   "cell_type": "code",
   "execution_count": 13,
   "id": "8c4d786d",
   "metadata": {},
   "outputs": [],
   "source": [
    "myadel.save('my_myadel.h5')"
   ]
  },
  {
   "cell_type": "markdown",
   "id": "e81035b1",
   "metadata": {},
   "source": [
    "### HW 6-7 自製圖片"
   ]
  },
  {
   "cell_type": "code",
   "execution_count": 14,
   "id": "2f48c797",
   "metadata": {},
   "outputs": [],
   "source": [
    "from PIL import Image\n",
    "import numpy as np\n",
    "import matplotlib.pyplot as plt"
   ]
  },
  {
   "cell_type": "code",
   "execution_count": 15,
   "id": "1351fc04",
   "metadata": {},
   "outputs": [
    {
     "name": "stdout",
     "output_type": "stream",
     "text": [
      "(28, 28)\n"
     ]
    },
    {
     "data": {
      "text/plain": [
       "<matplotlib.image.AxesImage at 0x2a345dc4070>"
      ]
     },
     "execution_count": 15,
     "metadata": {},
     "output_type": "execute_result"
    },
    {
     "data": {
      "image/png": "[encoded data removed]",
      "text/plain": [
       "<Figure size 200x200 with 1 Axes>"
      ]
     },
     "metadata": {},
     "output_type": "display_data"
    }
   ],
   "source": [
    "my_img = Image.open(\"my_sample_7.jpg\")\n",
    "resize_img = my_img.resize((28, 28))\n",
    "img_array = np.array(resize_img.convert(\"L\"))\n",
    "print(img_array.shape)\n",
    "fig = plt.gcf()\n",
    "fig.set_size_inches(2,2)\n",
    "plt.imshow(img_array, cmap=plt.get_cmap('gray'))"
   ]
  },
  {
   "cell_type": "markdown",
   "id": "3f6ef3b4",
   "metadata": {},
   "source": [
    "### HW 6-8 預測自製圖片"
   ]
  },
  {
   "cell_type": "code",
   "execution_count": 16,
   "id": "a105dbfe",
   "metadata": {},
   "outputs": [],
   "source": [
    "from keras.models import load_model\n",
    "model = load_model('my_myadel.h5')"
   ]
  },
  {
   "cell_type": "code",
   "execution_count": 17,
   "id": "466523de",
   "metadata": {},
   "outputs": [
    {
     "name": "stdout",
     "output_type": "stream",
     "text": [
      "(28, 28)\n",
      "(1, 784)\n"
     ]
    },
    {
     "data": {
      "image/png": "[encoded data removed]",
      "text/plain": [
       "<Figure size 200x200 with 1 Axes>"
      ]
     },
     "metadata": {},
     "output_type": "display_data"
    }
   ],
   "source": [
    "my_img = Image.open(\"my_sample_7.jpg\")\n",
    "resize_img = my_img.resize((28, 28))\n",
    "img_array = np.array(resize_img.convert(\"L\"))\n",
    "print(img_array.shape)\n",
    "# show image\n",
    "fig = plt.gcf()\n",
    "fig.set_size_inches(2,2)\n",
    "plt.imshow(img_array, cmap=plt.get_cmap('gray'))\n",
    "# pre-processing\n",
    "img_reshape = img_array.reshape(1, 28*28)\n",
    "print(img_reshape.shape)\n",
    "img_x = img_reshape.astype('float32')/255"
   ]
  },
  {
   "cell_type": "code",
   "execution_count": 18,
   "id": "5b1b0ced",
   "metadata": {},
   "outputs": [],
   "source": [
    "# prediction = model.predict_classes(img_x)\n",
    "# print(\"result = \", prediction)\n",
    "# --- AttributeError: 'Sequential' object has no attribute 'predict_classes' ---\n",
    "# keras 2.6 刪除 predict_classes"
   ]
  },
  {
   "cell_type": "code",
   "execution_count": 19,
   "id": "9c8e7ee8",
   "metadata": {},
   "outputs": [
    {
     "name": "stdout",
     "output_type": "stream",
     "text": [
      "1/1 [==============================] - 0s 113ms/step\n",
      "[[1.2559011e-03 1.7117678e-16 9.0082484e-01 7.4331634e-14 8.7962835e-31\n",
      "  8.9593746e-02 1.4204599e-04 8.1834802e-03 3.4156596e-19 8.6749035e-20]]\n",
      "result =  [2]\n"
     ]
    }
   ],
   "source": [
    "predict = model.predict(img_x)\n",
    "prediction = np.argmax(predict,axis=1)\n",
    "print(predict)\n",
    "print(\"result = \", prediction)"
   ]
  },
  {
   "cell_type": "markdown",
   "id": "62777247",
   "metadata": {},
   "source": [
    "### HW 7-CNN"
   ]
  },
  {
   "cell_type": "markdown",
   "id": "c2683188",
   "metadata": {},
   "source": [
    "#### 修正輸入資料格式"
   ]
  },
  {
   "cell_type": "code",
   "execution_count": 20,
   "id": "0695d623",
   "metadata": {},
   "outputs": [
    {
     "name": "stdout",
     "output_type": "stream",
     "text": [
      "x_train_image shape :  (60000, 28, 28)\n",
      "X_train       shape :  (60000, 28, 28, 1)\n",
      "x_test_image  shape :  (10000, 28, 28)\n",
      "X_test        shape :  (10000, 28, 28, 1)\n",
      "--------------------------------------------\n",
      "X_train_norm  shape :  (60000, 28, 28, 1)\n",
      "X_test_norm  shape :  (10000, 28, 28, 1)\n"
     ]
    }
   ],
   "source": [
    "X_train = x_train_image.reshape((60000, 28, 28, 1)).astype('float32')\n",
    "print(\"x_train_image shape : \", x_train_image.shape)\n",
    "print(\"X_train       shape : \", X_train.shape)\n",
    "X_test = x_test_image.reshape((10000, 28, 28, 1)).astype('float32')\n",
    "print(\"x_test_image  shape : \", x_test_image.shape)\n",
    "print(\"X_test        shape : \", X_test.shape)\n",
    "print(\"--------------------------------------------\")\n",
    "X_train_norm = X_train/255\n",
    "X_test_norm = X_test/255\n",
    "print(\"X_train_norm  shape : \", X_train_norm.shape)\n",
    "print(\"X_test_norm  shape : \", X_test_norm.shape)\n",
    "# --------------------------------------------------\n",
    "y_train_OneHot = np_utils.to_categorical(y_train_label)\n",
    "y_test_OneHot = np_utils.to_categorical(y_test_label)"
   ]
  },
  {
   "cell_type": "markdown",
   "id": "9823f870",
   "metadata": {},
   "source": [
    "#### 建立模型/訓練"
   ]
  },
  {
   "cell_type": "code",
   "execution_count": 21,
   "id": "36f7133a",
   "metadata": {},
   "outputs": [],
   "source": [
    "from keras.models import Sequential\n",
    "from keras.layers import Dense, Conv2D, MaxPooling2D, Flatten, Dropout"
   ]
  },
  {
   "cell_type": "code",
   "execution_count": 22,
   "id": "e93a5502",
   "metadata": {},
   "outputs": [],
   "source": [
    "CNNmodel = Sequential()\n",
    "CNNmodel.add(Conv2D(filters=16, kernel_size=(5, 5), padding='same', activation='relu', input_shape=(28, 28, 1))) # 28x28 grey\n",
    "CNNmodel.add(MaxPooling2D((2, 2)))\n",
    "CNNmodel.add(Conv2D(filters=36, kernel_size=(5, 5), padding='same', activation='relu'))\n",
    "CNNmodel.add(MaxPooling2D((2, 2)))\n",
    "CNNmodel.add(Flatten())\n",
    "CNNmodel.add(Dropout(0.25))\n",
    "CNNmodel.add(Dense(units=128, activation='relu'))\n",
    "CNNmodel.add(Dropout(0.5)) # Dropout : 加速訓練 依輸出的期望值選擇部分Neuron停止運作\n",
    "CNNmodel.add(Dense(units=10, activation='softmax'))"
   ]
  },
  {
   "cell_type": "code",
   "execution_count": 23,
   "id": "8fa0319f",
   "metadata": {},
   "outputs": [
    {
     "name": "stdout",
     "output_type": "stream",
     "text": [
      "313/313 [==============================] - 1s 4ms/step - loss: 0.0183 - accuracy: 0.9957\n",
      "0.9957000017166138\n"
     ]
    }
   ],
   "source": [
    "CNNmodel.compile(loss='categorical_crossentropy', optimizer='adam', metrics=['accuracy'])\n",
    "CNNmodel.fit(x=X_train_norm, y=y_train_OneHot, validation_split=0.1, epochs=50, batch_size=100, verbose=0)\n",
    "scores = CNNmodel.evaluate(X_test_norm, y_test_OneHot)\n",
    "print(scores[1])"
   ]
  },
  {
   "cell_type": "code",
   "execution_count": 24,
   "id": "caa104c8",
   "metadata": {},
   "outputs": [],
   "source": [
    "CNNmodel.save('my_cnn_myadel.h5')"
   ]
  },
  {
   "cell_type": "markdown",
   "id": "4116a603",
   "metadata": {},
   "source": [
    "#### 預測自製圖片"
   ]
  },
  {
   "cell_type": "code",
   "execution_count": 25,
   "id": "7137c023",
   "metadata": {},
   "outputs": [],
   "source": [
    "from keras.models import load_model\n",
    "model = load_model('my_cnn_myadel.h5')"
   ]
  },
  {
   "cell_type": "code",
   "execution_count": 26,
   "id": "882cc876",
   "metadata": {},
   "outputs": [
    {
     "name": "stdout",
     "output_type": "stream",
     "text": [
      "(28, 28)\n",
      "(1, 28, 28, 1)\n"
     ]
    },
    {
     "data": {
      "image/png": "[encoded data removed]",
      "text/plain": [
       "<Figure size 200x200 with 1 Axes>"
      ]
     },
     "metadata": {},
     "output_type": "display_data"
    }
   ],
   "source": [
    "from PIL import Image\n",
    "import numpy as np\n",
    "import matplotlib.pyplot as plt\n",
    "\n",
    "my_img = Image.open(\"my_sample_7.jpg\")\n",
    "resize_img = my_img.resize((28, 28))\n",
    "img_array = np.array(resize_img.convert(\"L\"))\n",
    "print(img_array.shape)\n",
    "# show image\n",
    "fig = plt.gcf()\n",
    "fig.set_size_inches(2,2)\n",
    "plt.imshow(img_array, cmap=plt.get_cmap('gray'))\n",
    "# pre-processing\n",
    "img_reshape = img_array.reshape((1, 28, 28, 1))\n",
    "print(img_reshape.shape)\n",
    "img_x = img_reshape.astype('float32')/255"
   ]
  },
  {
   "cell_type": "code",
   "execution_count": 27,
   "id": "8781ad4b",
   "metadata": {},
   "outputs": [
    {
     "name": "stdout",
     "output_type": "stream",
     "text": [
      "1/1 [==============================] - 0s 142ms/step\n",
      "[[6.4843859e-11 4.2595410e-01 1.6434539e-08 2.5793397e-19 1.6919835e-04\n",
      "  1.1734581e-11 6.0011788e-13 5.7387662e-01 1.4321076e-07 7.5532679e-13]]\n",
      "result =  [7]\n"
     ]
    }
   ],
   "source": [
    "predict = model.predict(img_x)\n",
    "prediction = np.argmax(predict,axis=1)\n",
    "print(predict)\n",
    "print(\"result = \", prediction)"
   ]
  },
  {
   "cell_type": "code",
   "execution_count": null,
   "id": "4f29ff0f",
   "metadata": {},
   "outputs": [],
   "source": []
  }
 ],
 "metadata": {
  "kernelspec": {
   "display_name": "Python 3 (ipykernel)",
   "language": "python",
   "name": "python3"
  },
  "language_info": {
   "codemirror_mode": {
    "name": "ipython",
    "version": 3
   },
   "file_extension": ".py",
   "mimetype": "text/x-python",
   "name": "python",
   "nbconvert_exporter": "python",
   "pygments_lexer": "ipython3",
   "version": "3.11.4"
  }
 },
 "nbformat": 4,
 "nbformat_minor": 5
}
