{
 "cells": [
  {
   "cell_type": "markdown",
   "id": "8bb5a2b9",
   "metadata": {},
   "source": [
    "### HW 7-2 尋找資料夾照片"
   ]
  },
  {
   "cell_type": "code",
   "execution_count": 1,
   "id": "517736c1",
   "metadata": {},
   "outputs": [],
   "source": [
    "import os"
   ]
  },
  {
   "cell_type": "code",
   "execution_count": 2,
   "id": "f99dbdb3",
   "metadata": {},
   "outputs": [],
   "source": [
    "def check_or_create_directory(directory_path):\n",
    "    if not os.path.exists(directory_path):\n",
    "        # 創建資料夾\n",
    "        os.makedirs(directory_path)\n",
    "    # 資料夾存在\n",
    "\n",
    "def files_in_directory(directory_path):\n",
    "    files = os.listdir(directory_path)\n",
    "    # 只抓檔案(略過資料夾)\n",
    "    files = [file for file in files if os.path.isfile(os.path.join(directory_path, file))]\n",
    "    return files"
   ]
  },
  {
   "cell_type": "code",
   "execution_count": 3,
   "id": "ac99883e",
   "metadata": {},
   "outputs": [],
   "source": [
    "set_cat_image_path = \"C:\\\\Users\\\\zombie\\\\PycharmProjects\\\\DL_class\\\\image_cat\"\n",
    "saved_cat_path = \"C:\\\\Users\\\\zombie\\\\PycharmProjects\\\\DL_class\\\\saved_testimg_cat\"\n",
    "set_dog_image_path = \"C:\\\\Users\\\\zombie\\\\PycharmProjects\\\\DL_class\\\\image_dog\"\n",
    "saved_dog_path = \"C:\\\\Users\\\\zombie\\\\PycharmProjects\\\\DL_class\\\\saved_testimg_dog\""
   ]
  },
  {
   "cell_type": "code",
   "execution_count": 4,
   "id": "53b51be4",
   "metadata": {},
   "outputs": [
    {
     "name": "stdout",
     "output_type": "stream",
     "text": [
      "success 讚啦OuOb\n"
     ]
    }
   ],
   "source": [
    "check_or_create_directory(saved_cat_path)\n",
    "check_or_create_directory(saved_dog_path)\n",
    "cat_image_list = files_in_directory(set_cat_image_path)\n",
    "dog_image_list = files_in_directory(set_dog_image_path)\n",
    "print(\"success 讚啦OuOb\")"
   ]
  },
  {
   "cell_type": "markdown",
   "id": "d16952ab",
   "metadata": {},
   "source": [
    "### HW 7-3 轉換照片"
   ]
  },
  {
   "cell_type": "code",
   "execution_count": 5,
   "id": "4dd21ffd",
   "metadata": {},
   "outputs": [],
   "source": [
    "from PIL import Image"
   ]
  },
  {
   "cell_type": "code",
   "execution_count": 6,
   "id": "3025786d",
   "metadata": {},
   "outputs": [],
   "source": [
    "def convert_image(input_directory_path, output_directory_path):\n",
    "    check_or_create_directory(output_directory_path)\n",
    "    image_list = files_in_directory(input_directory_path)\n",
    "    for img_name in image_list:\n",
    "        img = Image.open(os.path.join(input_directory_path, img_name))\n",
    "        square_img = img.resize((28, 28))\n",
    "        grey_img = square_img.convert(\"L\")\n",
    "        grey_img.save(os.path.join(output_directory_path, img_name))"
   ]
  },
  {
   "cell_type": "code",
   "execution_count": 7,
   "id": "d969b4ce",
   "metadata": {},
   "outputs": [],
   "source": [
    "convert_image(set_cat_image_path, saved_cat_path)\n",
    "convert_image(set_dog_image_path, saved_dog_path)"
   ]
  },
  {
   "cell_type": "markdown",
   "id": "2e1f77d5",
   "metadata": {},
   "source": [
    "### HW 7-4 轉換輸入資料"
   ]
  },
  {
   "cell_type": "code",
   "execution_count": 8,
   "id": "436936db",
   "metadata": {},
   "outputs": [],
   "source": [
    "import os\n",
    "import numpy as np\n",
    "from PIL import Image"
   ]
  },
  {
   "cell_type": "code",
   "execution_count": 9,
   "id": "56a6e839",
   "metadata": {},
   "outputs": [],
   "source": [
    "x_train = []\n",
    "y_train = []"
   ]
  },
  {
   "cell_type": "code",
   "execution_count": 10,
   "id": "644b0f21",
   "metadata": {},
   "outputs": [],
   "source": [
    "dog_image_path = \"C:\\\\Users\\\\zombie\\\\PycharmProjects\\\\DL_class\\\\saved_testimg_dog\"\n",
    "dog_image_list = files_in_directory(dog_image_path)\n",
    "for img_name in dog_image_list:\n",
    "    img = Image.open(os.path.join(dog_image_path, img_name))\n",
    "    x_data = np.array(img)\n",
    "    x_train.append(x_data)\n",
    "    y_train.append(0)"
   ]
  },
  {
   "cell_type": "markdown",
   "id": "fb48876c",
   "metadata": {},
   "source": [
    "### HW 7-5 轉換輸出入資料"
   ]
  },
  {
   "cell_type": "code",
   "execution_count": 11,
   "id": "7c34120e",
   "metadata": {},
   "outputs": [],
   "source": [
    "cat_image_path = \"C:\\\\Users\\\\zombie\\\\PycharmProjects\\\\DL_class\\\\saved_testimg_cat\"\n",
    "cat_image_list = files_in_directory(cat_image_path)\n",
    "for img_name in cat_image_list:\n",
    "    img = Image.open(os.path.join(cat_image_path, img_name))\n",
    "    x_data = np.array(img)\n",
    "    x_train.append(x_data)\n",
    "    y_train.append(1)"
   ]
  },
  {
   "cell_type": "code",
   "execution_count": 12,
   "id": "84e7b3fd",
   "metadata": {},
   "outputs": [
    {
     "name": "stdout",
     "output_type": "stream",
     "text": [
      "[0, 0, 0, 0, 0, 0, 0, 0, 0, 0, 1, 1, 1, 1, 1, 1, 1, 1, 1, 1]\n"
     ]
    }
   ],
   "source": [
    "print(y_train)"
   ]
  },
  {
   "cell_type": "code",
   "execution_count": 13,
   "id": "d0a751ab",
   "metadata": {},
   "outputs": [],
   "source": [
    "from keras.utils import np_utils"
   ]
  },
  {
   "cell_type": "code",
   "execution_count": 14,
   "id": "01097e1e",
   "metadata": {},
   "outputs": [
    {
     "name": "stdout",
     "output_type": "stream",
     "text": [
      "[0.6862745  0.64705884 0.6745098  0.7254902  0.7137255  0.7019608\n",
      " 0.73333335 0.7490196  0.7529412  0.78039217 0.7921569  0.7764706\n",
      " 0.7882353  0.8235294  0.83137256 0.8156863  0.8392157  0.84313726\n",
      " 0.8509804  0.85882354 0.85882354 0.85490197 0.84705883 0.8392157\n",
      " 0.8392157  0.83137256 0.81960785 0.80784315 0.7058824  0.64705884\n",
      " 0.654902   0.6862745  0.6784314  0.6901961  0.74509805 0.7764706\n",
      " 0.78039217 0.79607844 0.79607844 0.7921569  0.8039216  0.827451\n",
      " 0.8235294  0.79607844 0.8235294  0.827451   0.8392157  0.84705883\n",
      " 0.84705883 0.84705883 0.84313726 0.8392157  0.8352941  0.83137256\n",
      " 0.81960785 0.80784315 0.7372549  0.68235296 0.68235296 0.70980394\n",
      " 0.7058824  0.73333335 0.7921569  0.81960785 0.79607844 0.8\n",
      " 0.8039216  0.81960785 0.8352941  0.827451   0.78039217 0.73333335\n",
      " 0.80784315 0.8156863  0.827451   0.8352941  0.84313726 0.84313726\n",
      " 0.84313726 0.84313726 0.8392157  0.83137256 0.8235294  0.8156863\n",
      " 0.75686276 0.7176471  0.73333335 0.76862746 0.76862746 0.7882353\n",
      " 0.8235294  0.827451   0.80784315 0.8        0.80784315 0.8352941\n",
      " 0.8509804  0.81960785 0.7529412  0.69803923 0.8039216  0.8117647\n",
      " 0.81960785 0.83137256 0.8392157  0.84705883 0.84705883 0.84705883\n",
      " 0.84313726 0.8392157  0.83137256 0.827451   0.77254903 0.7372549\n",
      " 0.7529412  0.78431374 0.78039217 0.8        0.8235294  0.80784315\n",
      " 0.8117647  0.77254903 0.75686276 0.78039217 0.7882353  0.7647059\n",
      " 0.7372549  0.7294118  0.8        0.8039216  0.8117647  0.81960785\n",
      " 0.827451   0.8352941  0.8392157  0.8392157  0.84313726 0.84313726\n",
      " 0.8392157  0.8352941  0.827451   0.78431374 0.78431374 0.79607844\n",
      " 0.7882353  0.8117647  0.83137256 0.8117647  0.78039217 0.7137255\n",
      " 0.6627451  0.6509804  0.6392157  0.6313726  0.6745098  0.7411765\n",
      " 0.8039216  0.8039216  0.80784315 0.8117647  0.8156863  0.81960785\n",
      " 0.8235294  0.8235294  0.8392157  0.8392157  0.8352941  0.8352941\n",
      " 0.8666667  0.8352941  0.8392157  0.84705883 0.83137256 0.84313726\n",
      " 0.8392157  0.8        0.7647059  0.69411767 0.6313726  0.59607846\n",
      " 0.5411765  0.5137255  0.5803922  0.68235296 0.827451   0.8235294\n",
      " 0.8235294  0.81960785 0.81960785 0.81960785 0.8235294  0.8235294\n",
      " 0.827451   0.827451   0.827451   0.827451   0.8627451  0.84705883\n",
      " 0.8745098  0.89411765 0.8745098  0.8627451  0.827451   0.75686276\n",
      " 0.78431374 0.7294118  0.68235296 0.6392157  0.54901963 0.4745098\n",
      " 0.5176471  0.62352943 0.85490197 0.8509804  0.84313726 0.8392157\n",
      " 0.8352941  0.8352941  0.8352941  0.8352941  0.8156863  0.8156863\n",
      " 0.8156863  0.81960785 0.8666667  0.8392157  0.85882354 0.8784314\n",
      " 0.85490197 0.84705883 0.827451   0.78431374 0.74509805 0.79607844\n",
      " 0.7764706  0.65882355 0.6862745  0.62352943 0.43529412 0.49803922\n",
      " 0.84313726 0.8784314  0.84313726 0.81960785 0.85882354 0.84313726\n",
      " 0.8156863  0.8666667  0.84705883 0.83137256 0.8156863  0.8117647\n",
      " 0.8862745  0.8666667  0.8784314  0.8862745  0.87058824 0.87058824\n",
      " 0.83137256 0.7490196  0.7294118  0.23529412 0.70980394 0.72156864\n",
      " 0.48235294 0.19607843 0.5058824  0.33333334 0.81960785 0.87058824\n",
      " 0.8784314  0.85490197 0.84705883 0.83137256 0.8352941  0.87058824\n",
      " 0.8392157  0.8235294  0.8039216  0.78431374 0.90588236 0.8980392\n",
      " 0.90588236 0.9019608  0.89411765 0.90588236 0.84313726 0.7137255\n",
      " 0.6666667  0.27058825 0.60784316 0.70980394 0.30980393 0.26666668\n",
      " 0.48235294 0.23921569 0.7411765  0.8509804  0.90588236 0.84313726\n",
      " 0.8039216  0.8627451  0.85490197 0.74509805 0.8156863  0.8117647\n",
      " 0.8        0.78431374 0.9098039  0.9137255  0.92156863 0.9098039\n",
      " 0.9137255  0.9411765  0.8627451  0.7058824  0.6313726  0.6784314\n",
      " 0.6313726  0.68235296 0.34117648 0.54509807 0.42352942 0.28627452\n",
      " 0.3372549  0.53333336 0.8156863  0.9254902  0.84705883 0.827451\n",
      " 0.8627451  0.84313726 0.79607844 0.79607844 0.7921569  0.79607844\n",
      " 0.9019608  0.90588236 0.91764706 0.9098039  0.91764706 0.9529412\n",
      " 0.8862745  0.7411765  0.67058825 0.7529412  0.7764706  0.7372549\n",
      " 0.54509807 0.53333336 0.4745098  0.35686275 0.21960784 0.18431373\n",
      " 0.4509804  0.85882354 0.9843137  0.89411765 0.8509804  0.8627451\n",
      " 0.8392157  0.8156863  0.7921569  0.7882353  0.8862745  0.8862745\n",
      " 0.90588236 0.9019608  0.9019608  0.93333334 0.8980392  0.8\n",
      " 0.72156864 0.81960785 0.8352941  0.7921569  0.7607843  0.65882355\n",
      " 0.5647059  0.3882353  0.27058825 0.14509805 0.20392157 0.5019608\n",
      " 0.78431374 0.90588236 0.9098039  0.8784314  0.9137255  0.8784314\n",
      " 0.8352941  0.8117647  0.8784314  0.87058824 0.8901961  0.89411765\n",
      " 0.8784314  0.89411765 0.8980392  0.85490197 0.7921569  0.9607843\n",
      " 0.827451   0.81960785 0.8039216  0.79607844 0.59607846 0.4117647\n",
      " 0.09411765 0.17254902 0.21960784 0.25490198 0.36078432 0.53333336\n",
      " 0.7372549  0.9019608  0.89411765 0.89411765 0.8862745  0.87058824\n",
      " 0.8784314  0.8627451  0.88235295 0.8901961  0.85882354 0.8666667\n",
      " 0.89411765 0.8862745  0.8784314  0.89411765 0.8666667  0.85882354\n",
      " 0.7058824  0.61960787 0.60784316 0.42745098 0.18039216 0.14117648\n",
      " 0.12941177 0.20784314 0.23921569 0.16470589 0.24705882 0.49411765\n",
      " 0.7882353  0.84313726 0.8980392  0.90588236 0.8980392  0.8784314\n",
      " 0.8862745  0.88235295 0.8627451  0.8862745  0.89411765 0.8509804\n",
      " 0.85490197 0.8352941  0.85882354 0.8392157  0.74509805 0.6509804\n",
      " 0.49803922 0.30588236 0.15294118 0.14901961 0.16862746 0.1882353\n",
      " 0.18039216 0.21568628 0.3254902  0.43137255 0.42745098 0.60784316\n",
      " 0.79607844 0.8745098  0.9137255  0.8901961  0.89411765 0.9019608\n",
      " 0.8980392  0.90588236 0.8862745  0.8156863  0.8509804  0.8666667\n",
      " 0.85490197 0.8352941  0.7882353  0.654902   0.4509804  0.3019608\n",
      " 0.18039216 0.12156863 0.16862746 0.20784314 0.17254902 0.27450982\n",
      " 0.49411765 0.6156863  0.5176471  0.65882355 0.79607844 0.8392157\n",
      " 0.9254902  0.88235295 0.87058824 0.8745098  0.87058824 0.8862745\n",
      " 0.8627451  0.78431374 0.78039217 0.8392157  0.8392157  0.80784315\n",
      " 0.7921569  0.7058824  0.5764706  0.50980395 0.15686275 0.10196079\n",
      " 0.18431373 0.21960784 0.12156863 0.19607843 0.44313726 0.5803922\n",
      " 0.7019608  0.7882353  0.85882354 0.8666667  0.92156863 0.8745098\n",
      " 0.84705883 0.83137256 0.81960785 0.84705883 0.85490197 0.8039216\n",
      " 0.69803923 0.79607844 0.8980392  0.8745098  0.7764706  0.7137255\n",
      " 0.61960787 0.4745098  0.1882353  0.14901961 0.16470589 0.17254902\n",
      " 0.11372549 0.14117648 0.3372549  0.5294118  0.76862746 0.80784315\n",
      " 0.8352941  0.83137256 0.88235295 0.8627451  0.8627451  0.84313726\n",
      " 0.8156863  0.8392157  0.8627451  0.83137256 0.7019608  0.68235296\n",
      " 0.7607843  0.73333335 0.6117647  0.6784314  0.6784314  0.4509804\n",
      " 0.3137255  0.23529412 0.12156863 0.15686275 0.30980393 0.38039216\n",
      " 0.5019608  0.72156864 0.8039216  0.8156863  0.81960785 0.8156863\n",
      " 0.8117647  0.8235294  0.8666667  0.8745098  0.84313726 0.84313726\n",
      " 0.8509804  0.8117647  0.7176471  0.5764706  0.58431375 0.6\n",
      " 0.56078434 0.6745098  0.6862745  0.4509804  0.39215687 0.28235295\n",
      " 0.18431373 0.34901962 0.6392157  0.72156864 0.73333335 0.85490197\n",
      " 0.87058824 0.8666667  0.85882354 0.85490197 0.7921569  0.8039216\n",
      " 0.85490197 0.8784314  0.85882354 0.85882354 0.84705883 0.7921569\n",
      " 0.7058824  0.62352943 0.627451   0.70980394 0.7176471  0.6313726\n",
      " 0.4862745  0.3647059  0.43529412 0.32941177 0.41960785 0.68235296\n",
      " 0.8392157  0.8509804  0.8352941  0.8352941  0.85882354 0.84705883\n",
      " 0.83137256 0.81960785 0.8352941  0.827451   0.85490197 0.8745098\n",
      " 0.87058824 0.8862745  0.8784314  0.81960785 0.7372549  0.6901961\n",
      " 0.6117647  0.65882355 0.70980394 0.5372549  0.44705883 0.6\n",
      " 0.5058824  0.40784314 0.6509804  0.91764706 0.84705883 0.8039216\n",
      " 0.8862745  0.85490197 0.85882354 0.8392157  0.81960785 0.8117647\n",
      " 0.85882354 0.85490197 0.8509804  0.85882354 0.8627451  0.8666667\n",
      " 0.85882354 0.8509804  0.7882353  0.627451   0.7176471  0.6509804\n",
      " 0.46666667 0.49803922 0.50980395 0.44313726 0.61960787 0.73333335\n",
      " 0.84705883 0.8784314  0.8509804  0.8235294  0.827451   0.8352941\n",
      " 0.81960785 0.827451   0.81960785 0.79607844 0.8745098  0.87058824\n",
      " 0.87058824 0.8745098  0.88235295 0.88235295 0.8745098  0.8666667\n",
      " 0.8039216  0.77254903 0.8745098  0.7176471  0.44313726 0.47843137\n",
      " 0.6745098  0.8352941  0.8509804  0.8745098  0.87058824 0.8235294\n",
      " 0.78039217 0.78039217 0.8039216  0.827451   0.80784315 0.8117647\n",
      " 0.79607844 0.76862746 0.88235295 0.8784314  0.8784314  0.8862745\n",
      " 0.8901961  0.8901961  0.8784314  0.87058824 0.91764706 0.88235295\n",
      " 0.9490196  0.92941177 0.8784314  0.8901961  0.8784314  0.8745098\n",
      " 0.9098039  0.9098039  0.8862745  0.84705883 0.81960785 0.80784315\n",
      " 0.8        0.78431374 0.8039216  0.8        0.7764706  0.7411765\n",
      " 0.8745098  0.87058824 0.8745098  0.8784314  0.88235295 0.88235295\n",
      " 0.8666667  0.85882354 0.8392157  0.84705883 0.8666667  0.8666667\n",
      " 0.88235295 0.8666667  0.81960785 0.8117647  0.8352941  0.8627451\n",
      " 0.8862745  0.88235295 0.87058824 0.84313726 0.8        0.7607843\n",
      " 0.80784315 0.8        0.77254903 0.73333335]\n",
      "[0. 1.]\n"
     ]
    }
   ],
   "source": [
    "x_train = np.array(x_train)\n",
    "x_train_norm = (x_train.reshape(20, 784).astype('float32'))/255\n",
    "y_train_OneHot = np_utils.to_categorical(y_train)\n",
    "\n",
    "print(x_train_norm[13])\n",
    "print(y_train_OneHot[13])"
   ]
  },
  {
   "cell_type": "markdown",
   "id": "5567df75",
   "metadata": {},
   "source": [
    "### HW 7-6 訓練類神經網路"
   ]
  },
  {
   "cell_type": "code",
   "execution_count": 15,
   "id": "06ca50aa",
   "metadata": {},
   "outputs": [],
   "source": [
    "from keras.models import Sequential\n",
    "from keras.layers import Dense"
   ]
  },
  {
   "cell_type": "code",
   "execution_count": 16,
   "id": "c9e050e0",
   "metadata": {},
   "outputs": [
    {
     "name": "stdout",
     "output_type": "stream",
     "text": [
      "Epoch 1/10\n",
      "4/4 - 1s - loss: 1.1614 - accuracy: 0.4375 - val_loss: 0.9642 - val_accuracy: 0.0000e+00 - 818ms/epoch - 204ms/step\n",
      "Epoch 2/10\n",
      "4/4 - 0s - loss: 0.7670 - accuracy: 0.5000 - val_loss: 0.5257 - val_accuracy: 1.0000 - 46ms/epoch - 11ms/step\n",
      "Epoch 3/10\n",
      "4/4 - 0s - loss: 0.5984 - accuracy: 0.7500 - val_loss: 2.1005 - val_accuracy: 0.0000e+00 - 40ms/epoch - 10ms/step\n",
      "Epoch 4/10\n",
      "4/4 - 0s - loss: 0.8245 - accuracy: 0.6250 - val_loss: 2.2679 - val_accuracy: 0.0000e+00 - 67ms/epoch - 17ms/step\n",
      "Epoch 5/10\n",
      "4/4 - 0s - loss: 0.6211 - accuracy: 0.8125 - val_loss: 1.0277 - val_accuracy: 0.5000 - 91ms/epoch - 23ms/step\n",
      "Epoch 6/10\n",
      "4/4 - 0s - loss: 0.5023 - accuracy: 0.6875 - val_loss: 0.5578 - val_accuracy: 0.7500 - 52ms/epoch - 13ms/step\n",
      "Epoch 7/10\n",
      "4/4 - 0s - loss: 0.6005 - accuracy: 0.6875 - val_loss: 0.7641 - val_accuracy: 0.5000 - 62ms/epoch - 15ms/step\n",
      "Epoch 8/10\n",
      "4/4 - 0s - loss: 0.4318 - accuracy: 0.8750 - val_loss: 1.2637 - val_accuracy: 0.0000e+00 - 77ms/epoch - 19ms/step\n",
      "Epoch 9/10\n",
      "4/4 - 0s - loss: 0.4486 - accuracy: 0.8125 - val_loss: 1.6227 - val_accuracy: 0.0000e+00 - 39ms/epoch - 10ms/step\n",
      "Epoch 10/10\n",
      "4/4 - 0s - loss: 0.4814 - accuracy: 0.8125 - val_loss: 1.4643 - val_accuracy: 0.0000e+00 - 38ms/epoch - 9ms/step\n"
     ]
    }
   ],
   "source": [
    "# 建立模型\n",
    "maudel = Sequential()\n",
    "maudel.add(Dense(units=256, input_dim=784, kernel_initializer='normal', activation='relu'))\n",
    "maudel.add(Dense(units=2, kernel_initializer='normal', activation='softmax'))\n",
    "# 訓練\n",
    "maudel.compile(loss='categorical_crossentropy', optimizer='adam', metrics=['accuracy'])\n",
    "maudel.fit(x=x_train_norm, y=y_train_OneHot, validation_split=0.2, epochs=10, batch_size=5, verbose=2)\n",
    "# 儲存模型\n",
    "maudel.save('my_maudel.h5')"
   ]
  },
  {
   "cell_type": "markdown",
   "id": "044f9c90",
   "metadata": {},
   "source": [
    "### HW 7-7 辨識圖形"
   ]
  },
  {
   "cell_type": "code",
   "execution_count": 19,
   "id": "b55179e5",
   "metadata": {},
   "outputs": [],
   "source": [
    "from keras.models import load_model\n",
    "model = load_model('my_maudel.h5')"
   ]
  },
  {
   "cell_type": "code",
   "execution_count": 20,
   "id": "d25b1609",
   "metadata": {},
   "outputs": [],
   "source": [
    "my_img = Image.open(\"image_dog\\\\003.jpg\")\n",
    "resize_img = my_img.resize((28, 28))\n",
    "img_array = np.array(resize_img.convert(\"L\")) # img_reshape.shape == (28, 28)\n",
    "img_reshape = img_array.reshape(1, 28*28) # img_reshape.shape == (1, 784)\n",
    "img_x = img_reshape.astype('float32')/255"
   ]
  },
  {
   "cell_type": "code",
   "execution_count": 21,
   "id": "3206f46f",
   "metadata": {},
   "outputs": [
    {
     "data": {
      "text/plain": [
       "<matplotlib.image.AxesImage at 0x230981cafc8>"
      ]
     },
     "execution_count": 21,
     "metadata": {},
     "output_type": "execute_result"
    },
    {
     "data": {
      "image/png": "[encoded data removed]",
      "text/plain": [
       "<Figure size 200x200 with 1 Axes>"
      ]
     },
     "metadata": {},
     "output_type": "display_data"
    }
   ],
   "source": [
    "# show image\n",
    "from PIL import Image\n",
    "import matplotlib.pyplot as plt\n",
    "fig = plt.gcf()\n",
    "fig.set_size_inches(2,2)\n",
    "plt.imshow(img_array, cmap=plt.get_cmap('gray'))"
   ]
  },
  {
   "cell_type": "code",
   "execution_count": 22,
   "id": "85d690bd",
   "metadata": {},
   "outputs": [
    {
     "name": "stdout",
     "output_type": "stream",
     "text": [
      "1/1 [==============================] - 0s 65ms/step\n",
      "[[0.8607733  0.13922669]]\n",
      "result =  [0]\n",
      "他是一隻狗勾\n"
     ]
    }
   ],
   "source": [
    "predict = model.predict(img_x)\n",
    "prediction = np.argmax(predict,axis=1)\n",
    "print(predict)\n",
    "print(\"result = \", prediction)\n",
    "if prediction == [0]:\n",
    "    print(\"他是一隻狗勾\")\n",
    "if prediction == [1]:\n",
    "    print(\"他是一隻卯咪\")"
   ]
  }
 ],
 "metadata": {
  "kernelspec": {
   "display_name": "Python 3 (ipykernel)",
   "language": "python",
   "name": "python3"
  },
  "language_info": {
   "codemirror_mode": {
    "name": "ipython",
    "version": 3
   },
   "file_extension": ".py",
   "mimetype": "text/x-python",
   "name": "python",
   "nbconvert_exporter": "python",
   "pygments_lexer": "ipython3",
   "version": "3.7.13"
  }
 },
 "nbformat": 4,
 "nbformat_minor": 5
}
