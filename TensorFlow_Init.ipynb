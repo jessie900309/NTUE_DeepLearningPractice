{
 "cells": [
  {
   "cell_type": "markdown",
   "id": "37926ba9",
   "metadata": {},
   "source": [
    "### 套件安裝"
   ]
  },
  {
   "cell_type": "code",
   "execution_count": 1,
   "id": "9bf3d64d",
   "metadata": {},
   "outputs": [],
   "source": [
    "import tensorflow \n",
    "import keras"
   ]
  },
  {
   "cell_type": "code",
   "execution_count": 2,
   "id": "9b47cf05",
   "metadata": {},
   "outputs": [
    {
     "name": "stdout",
     "output_type": "stream",
     "text": [
      "2.10.1\n"
     ]
    }
   ],
   "source": [
    "print(tensorflow.__version__)"
   ]
  },
  {
   "cell_type": "code",
   "execution_count": 3,
   "id": "41456100",
   "metadata": {},
   "outputs": [
    {
     "name": "stdout",
     "output_type": "stream",
     "text": [
      "2.10.0\n"
     ]
    }
   ],
   "source": [
    "print(keras.__version__)"
   ]
  },
  {
   "cell_type": "code",
   "execution_count": 4,
   "id": "73e7eefa",
   "metadata": {
    "scrolled": true
   },
   "outputs": [
    {
     "name": "stdout",
     "output_type": "stream",
     "text": [
      "[name: \"/device:CPU:0\"\n",
      "device_type: \"CPU\"\n",
      "memory_limit: 268435456\n",
      "locality {\n",
      "}\n",
      "incarnation: 17324420278314933962\n",
      "xla_global_id: -1\n",
      ", name: \"/device:GPU:0\"\n",
      "device_type: \"GPU\"\n",
      "memory_limit: 1470965147\n",
      "locality {\n",
      "  bus_id: 1\n",
      "  links {\n",
      "  }\n",
      "}\n",
      "incarnation: 15462192302575846688\n",
      "physical_device_desc: \"device: 0, name: NVIDIA GeForce GTX 1050, pci bus id: 0000:01:00.0, compute capability: 6.1\"\n",
      "xla_global_id: 416903419\n",
      "]\n"
     ]
    }
   ],
   "source": [
    "from tensorflow.python.client import device_lib\n",
    "print(device_lib.list_local_devices())"
   ]
  },
  {
   "cell_type": "markdown",
   "id": "2ca78e35",
   "metadata": {},
   "source": [
    "### CNN基本概念"
   ]
  },
  {
   "cell_type": "code",
   "execution_count": 6,
   "id": "a563eaa2",
   "metadata": {},
   "outputs": [],
   "source": [
    "import numpy as np"
   ]
  },
  {
   "cell_type": "code",
   "execution_count": 7,
   "id": "f2b99ece",
   "metadata": {},
   "outputs": [
    {
     "name": "stdout",
     "output_type": "stream",
     "text": [
      "[[  0   0   0   0   0   0]\n",
      " [  0   0   0   0   0   0]\n",
      " [  0   0   0   0   0   0]\n",
      " [255 255 255 255 255 255]\n",
      " [255 255 255 255 255 255]\n",
      " [255 255 255 255 255 255]]\n"
     ]
    }
   ],
   "source": [
    "u = np.zeros([3, 6], dtype = np.uint8)\n",
    "d = np.ones([3, 6], dtype = np.uint8)*255\n",
    "OuO1 = np.append(u, d, axis=0)\n",
    "print(OuO1)"
   ]
  },
  {
   "cell_type": "code",
   "execution_count": 8,
   "id": "a10b67b2",
   "metadata": {},
   "outputs": [
    {
     "name": "stdout",
     "output_type": "stream",
     "text": [
      "[[  0   0   0 255 255 255]\n",
      " [  0   0   0 255 255 255]\n",
      " [  0   0   0 255 255 255]\n",
      " [  0   0   0 255 255 255]\n",
      " [  0   0   0 255 255 255]\n",
      " [  0   0   0 255 255 255]]\n"
     ]
    }
   ],
   "source": [
    "u = np.zeros([6, 3], dtype = np.uint8)\n",
    "d = np.ones([6, 3], dtype = np.uint8)*255\n",
    "OuO2 = np.append(u, d, axis=1)\n",
    "print(OuO2)"
   ]
  },
  {
   "cell_type": "code",
   "execution_count": 9,
   "id": "9d1bf151",
   "metadata": {},
   "outputs": [],
   "source": [
    "OuO3 = np.array([[0, 0, 0, 255, 255], \n",
    "                 [0, 0, 255, 255, 255], \n",
    "                 [0, 255, 255, 255, 255],\n",
    "                 [255, 255, 255, 255, 255],\n",
    "                 [255, 255, 255, 255, 255]])"
   ]
  },
  {
   "cell_type": "code",
   "execution_count": 10,
   "id": "653a3769",
   "metadata": {},
   "outputs": [
    {
     "name": "stdout",
     "output_type": "stream",
     "text": [
      "[[-1  0  1]\n",
      " [-1  0  1]\n",
      " [-1  0  1]]\n",
      "[[-1 -1 -1]\n",
      " [ 0  0  0]\n",
      " [ 1  1  1]]\n"
     ]
    }
   ],
   "source": [
    "mask_v = np.array([[-1, 0, 1], [-1, 0, 1], [-1, 0, 1]])\n",
    "mask_h = np.array([[-1, -1, -1], [0, 0, 0], [1, 1, 1]])\n",
    "print(mask_v)\n",
    "print(mask_h)"
   ]
  },
  {
   "cell_type": "code",
   "execution_count": 11,
   "id": "0536137b",
   "metadata": {},
   "outputs": [],
   "source": [
    "def convolution2d(image, kernel, bias):\n",
    "    m, n = kernel.shape\n",
    "    if (m == n):\n",
    "        y, x = image.shape\n",
    "        y = y - m + 1\n",
    "        x = x - m + 1\n",
    "        new_image = np.zeros((y,x))\n",
    "        for i in range(y):\n",
    "            for j in range(x):\n",
    "                new_image[i][j] = np.sum(image[i:i+m, j:j+m]*kernel) + bias\n",
    "    return new_image\n",
    "# from https://stackoverflow.com/questions/2448015/2d-convolution-using-python-and-numpy"
   ]
  },
  {
   "cell_type": "code",
   "execution_count": 12,
   "id": "ac3c9a04",
   "metadata": {},
   "outputs": [
    {
     "data": {
      "text/plain": [
       "array([[0., 0., 0., 0.],\n",
       "       [0., 0., 0., 0.],\n",
       "       [0., 0., 0., 0.],\n",
       "       [0., 0., 0., 0.]])"
      ]
     },
     "execution_count": 12,
     "metadata": {},
     "output_type": "execute_result"
    }
   ],
   "source": [
    "convolution2d(image=OuO1, kernel=mask_v, bias=0)"
   ]
  },
  {
   "cell_type": "code",
   "execution_count": 13,
   "id": "0f52e282",
   "metadata": {},
   "outputs": [
    {
     "data": {
      "text/plain": [
       "array([[  0.,   0.,   0.,   0.],\n",
       "       [765., 765., 765., 765.],\n",
       "       [765., 765., 765., 765.],\n",
       "       [  0.,   0.,   0.,   0.]])"
      ]
     },
     "execution_count": 13,
     "metadata": {},
     "output_type": "execute_result"
    }
   ],
   "source": [
    "convolution2d(image=OuO1, kernel=mask_h, bias=0)"
   ]
  },
  {
   "cell_type": "code",
   "execution_count": 14,
   "id": "9eb0a43f",
   "metadata": {},
   "outputs": [
    {
     "data": {
      "text/plain": [
       "array([[  0., 765., 765.,   0.],\n",
       "       [  0., 765., 765.,   0.],\n",
       "       [  0., 765., 765.,   0.],\n",
       "       [  0., 765., 765.,   0.]])"
      ]
     },
     "execution_count": 14,
     "metadata": {},
     "output_type": "execute_result"
    }
   ],
   "source": [
    "convolution2d(image=OuO2, kernel=mask_v, bias=0)"
   ]
  },
  {
   "cell_type": "code",
   "execution_count": 15,
   "id": "3b0b12b9",
   "metadata": {},
   "outputs": [
    {
     "data": {
      "text/plain": [
       "array([[0., 0., 0., 0.],\n",
       "       [0., 0., 0., 0.],\n",
       "       [0., 0., 0., 0.],\n",
       "       [0., 0., 0., 0.]])"
      ]
     },
     "execution_count": 15,
     "metadata": {},
     "output_type": "execute_result"
    }
   ],
   "source": [
    "convolution2d(image=OuO2, kernel=mask_h, bias=0)"
   ]
  },
  {
   "cell_type": "code",
   "execution_count": 16,
   "id": "12120bfd",
   "metadata": {},
   "outputs": [
    {
     "data": {
      "text/plain": [
       "array([[510., 510., 255.],\n",
       "       [510., 255.,   0.],\n",
       "       [255.,   0.,   0.]])"
      ]
     },
     "execution_count": 16,
     "metadata": {},
     "output_type": "execute_result"
    }
   ],
   "source": [
    "convolution2d(image=OuO3, kernel=mask_v, bias=0)"
   ]
  },
  {
   "cell_type": "code",
   "execution_count": 17,
   "id": "a6513a9c",
   "metadata": {},
   "outputs": [
    {
     "data": {
      "text/plain": [
       "array([[510., 510., 255.],\n",
       "       [510., 255.,   0.],\n",
       "       [255.,   0.,   0.]])"
      ]
     },
     "execution_count": 17,
     "metadata": {},
     "output_type": "execute_result"
    }
   ],
   "source": [
    "convolution2d(image=OuO3, kernel=mask_h, bias=0)"
   ]
  }
 ],
 "metadata": {
  "kernelspec": {
   "display_name": "Python 3 (ipykernel)",
   "language": "python",
   "name": "python3"
  },
  "language_info": {
   "codemirror_mode": {
    "name": "ipython",
    "version": 3
   },
   "file_extension": ".py",
   "mimetype": "text/x-python",
   "name": "python",
   "nbconvert_exporter": "python",
   "pygments_lexer": "ipython3",
   "version": "3.9.0"
  }
 },
 "nbformat": 4,
 "nbformat_minor": 5
}
