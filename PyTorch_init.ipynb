{
 "cells": [
  {
   "cell_type": "code",
   "execution_count": 1,
   "id": "b1f0dd2d-1e9a-4c8e-85f6-2334081b85e0",
   "metadata": {},
   "outputs": [],
   "source": [
    "import torch"
   ]
  },
  {
   "cell_type": "code",
   "execution_count": 2,
   "id": "77af4b48-90e8-43db-b5b7-b28c4c25b9b9",
   "metadata": {},
   "outputs": [
    {
     "name": "stdout",
     "output_type": "stream",
     "text": [
      "torch.__version__ =  1.9.1+cu111\n",
      "torch.version.cuda =  11.1\n",
      "torch.backends.cudnn.enabled =  True\n",
      "torch.backends.cudnn.version() =  8005\n"
     ]
    }
   ],
   "source": [
    "print(\"torch.__version__ = \", torch.__version__)\n",
    "print(\"torch.version.cuda = \", torch.version.cuda)\n",
    "print(\"torch.backends.cudnn.enabled = \", torch.backends.cudnn.enabled)\n",
    "print(\"torch.backends.cudnn.version() = \", torch.backends.cudnn.version())"
   ]
  },
  {
   "cell_type": "code",
   "execution_count": null,
   "id": "0b7f8586-c241-4db4-aa1b-fb4a8dfe0511",
   "metadata": {},
   "outputs": [],
   "source": []
  }
 ],
 "metadata": {
  "kernelspec": {
   "display_name": "Python 3 (ipykernel)",
   "language": "python",
   "name": "python3"
  },
  "language_info": {
   "codemirror_mode": {
    "name": "ipython",
    "version": 3
   },
   "file_extension": ".py",
   "mimetype": "text/x-python",
   "name": "python",
   "nbconvert_exporter": "python",
   "pygments_lexer": "ipython3",
   "version": "3.9.19"
  }
 },
 "nbformat": 4,
 "nbformat_minor": 5
}
