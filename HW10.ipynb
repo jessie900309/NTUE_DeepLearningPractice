{
 "cells": [
  {
   "cell_type": "code",
   "execution_count": 1,
   "id": "44bc9a73",
   "metadata": {},
   "outputs": [
    {
     "name": "stdout",
     "output_type": "stream",
     "text": [
      "             open   high    low  close  volume  diff    ration  real\n",
      "date                                                                \n",
      "2016/9/8    84.20  85.20  84.20   85.2    4934  -6.2 -0.072770     0\n",
      "2016/9/9    83.20  84.90  83.20   84.1    5430  -8.8 -0.104637     0\n",
      "2016/9/10   82.60  83.00  81.40   82.2    5604   0.6  0.007299     1\n",
      "2016/9/12   82.30  83.10  81.00   81.0    7212  -1.0 -0.012346     1\n",
      "2016/9/13   82.50  82.50  79.00   79.0   13706   5.8  0.073418     2\n",
      "...           ...    ...    ...    ...     ...   ...       ...   ...\n",
      "2020/10/5   28.75  28.90  28.60   28.9    1988   0.3  0.010381     1\n",
      "2020/10/6   29.05  29.45  29.00   29.0    3115 -29.0 -1.000000     0\n",
      "2020/10/7   29.75  29.95  29.35   29.5    7856 -29.5 -1.000000     0\n",
      "2020/10/8   29.55  29.80  29.20   29.2    3558 -29.2 -1.000000     0\n",
      "2020/10/12  29.25  29.70  29.10   29.2    3534 -29.2 -1.000000     0\n",
      "\n",
      "[1000 rows x 8 columns]\n"
     ]
    }
   ],
   "source": [
    "# HW 10-3\n",
    "# 利用pandas讀取csv檔\n",
    "\n",
    "import pandas as pd\n",
    "\n",
    "stockdf = pd.read_csv(\"dataset.csv\", index_col=0)\n",
    "stockdf.dropna(how=\"any\", inplace=True)\n",
    "\n",
    "print(stockdf)"
   ]
  },
  {
   "cell_type": "code",
   "execution_count": 2,
   "id": "6ceac074",
   "metadata": {},
   "outputs": [],
   "source": [
    "# HW 10-4\n",
    "# 正規化輸入資料\n",
    "\n",
    "from sklearn import preprocessing\n",
    "from keras.utils import np_utils\n",
    "\n",
    "min_max_scaler = preprocessing.MinMaxScaler()\n",
    "new_df = stockdf.copy()\n",
    "flag_df = stockdf.copy()\n",
    "\n",
    "new_df[\"open\"] = min_max_scaler.fit_transform(stockdf.open.values.reshape(-1,1))\n",
    "new_df[\"high\"] = min_max_scaler.fit_transform(stockdf.high.values.reshape(-1,1))\n",
    "new_df[\"low\"] = min_max_scaler.fit_transform(stockdf.low.values.reshape(-1,1))\n",
    "new_df[\"close\"] = min_max_scaler.fit_transform(stockdf.close.values.reshape(-1,1))\n",
    "new_df[\"volume\"] = min_max_scaler.fit_transform(stockdf.volume.values.reshape(-1,1))"
   ]
  },
  {
   "cell_type": "code",
   "execution_count": 3,
   "id": "8ac89299",
   "metadata": {},
   "outputs": [
    {
     "name": "stdout",
     "output_type": "stream",
     "text": [
      "(990, 10, 8)\n",
      "10\n",
      "[[ 8.37375178e-01  8.37563452e-01  8.55895197e-01  8.58511422e-01\n",
      "   5.37566460e-02 -6.20000000e+00 -7.27699530e-02  0.00000000e+00]\n",
      " [ 8.23109843e-01  8.33212473e-01  8.41339156e-01  8.42299189e-01\n",
      "   5.91606380e-02 -8.80000000e+00 -1.04637337e-01  0.00000000e+00]\n",
      " [ 8.14550642e-01  8.05656273e-01  8.15138282e-01  8.14296242e-01\n",
      "   6.10563933e-02  6.00000000e-01  7.29927000e-03  1.00000000e+00]\n",
      " [ 8.10271041e-01  8.07106599e-01  8.09315866e-01  7.96610169e-01\n",
      "   7.85757866e-02 -1.00000000e+00 -1.23456790e-02  1.00000000e+00]\n",
      " [ 8.13124108e-01  7.98404641e-01  7.80203785e-01  7.67133382e-01\n",
      "   1.49328859e-01  5.80000000e+00  7.34177220e-02  2.00000000e+00]\n",
      " [ 7.48930100e-01  7.46192893e-01  7.08879185e-01  7.12601326e-01\n",
      "   2.76213719e-01  9.30000000e+00  1.23505976e-01  2.00000000e+00]\n",
      " [ 7.20399429e-01  8.02755620e-01  7.27802038e-01  8.23139278e-01\n",
      "   2.38091606e-01  1.50000000e+00  1.81159420e-02  1.00000000e+00]\n",
      " [ 8.17403709e-01  8.08556925e-01  7.94759825e-01  7.81871776e-01\n",
      "   1.91318748e-01  4.00000000e+00  5.00000000e-02  2.00000000e+00]\n",
      " [ 7.77460770e-01  8.59318347e-01  7.88937409e-01  8.52616065e-01\n",
      "   3.09302275e-01  1.20000000e+00  1.41509430e-02  1.00000000e+00]\n",
      " [ 8.68758916e-01  8.76722263e-01  8.61717613e-01  8.49668386e-01\n",
      "   2.02094047e-01  2.50000000e+00  2.95508270e-02  1.00000000e+00]]\n"
     ]
    }
   ],
   "source": [
    "# HW 10-5\n",
    "# 切割為輸入資料\n",
    "\n",
    "import numpy as np\n",
    "\n",
    "data_value = new_df.values\n",
    "result = []\n",
    "\n",
    "t_frame = 9\n",
    "for idx in range(len(data_value)-(t_frame+1)):\n",
    "    result.append(data_value[idx:idx+(t_frame+1)])\n",
    "\n",
    "result = np.array(result)\n",
    "print(result.shape)\n",
    "print(len(result[0]))\n",
    "print(result[0])"
   ]
  },
  {
   "cell_type": "code",
   "execution_count": 4,
   "id": "506da848",
   "metadata": {},
   "outputs": [
    {
     "name": "stdout",
     "output_type": "stream",
     "text": [
      "(891, 9, 5)\n",
      "[[0.84165478 0.84191443 0.84570597 0.84524687 0.11403948]\n",
      " [0.84878745 0.85496737 0.8588064  0.84672071 0.09701037]\n",
      " [0.83166904 0.81870921 0.82387191 0.81724392 0.06995773]\n",
      " [0.81312411 0.80855693 0.81513828 0.8201916  0.05455199]\n",
      " [0.82453638 0.81870921 0.83406114 0.82313928 0.04598841]\n",
      " [0.78459344 0.78390138 0.79621543 0.78334562 0.15029853]\n",
      " [0.78601997 0.77810007 0.79621543 0.78629329 0.07067681]\n",
      " [0.78601997 0.79550399 0.78020378 0.80987472 0.10997559]\n",
      " [0.80599144 0.79840464 0.80931587 0.79808401 0.0473612 ]]\n",
      "1.0\n",
      "[0. 1. 0.]\n"
     ]
    }
   ],
   "source": [
    "# HW 10-6\n",
    "# 準備訓練集資料\n",
    "# 訓練集90% 測試集10%\n",
    "\n",
    "len_of_train = round(0.9*result.shape[0]) # 0.9*990\n",
    "\n",
    "X_train = result[:int(len_of_train), :-1, 0:5]\n",
    "y_train = result[:int(len_of_train), -1][:, -1]\n",
    "y_train_OneHot = np_utils.to_categorical(y_train)\n",
    "\n",
    "print(X_train.shape)\n",
    "print(X_train[55])\n",
    "print(y_train[55])\n",
    "print(y_train_OneHot[55])"
   ]
  },
  {
   "cell_type": "code",
   "execution_count": 5,
   "id": "4002d02d",
   "metadata": {},
   "outputs": [
    {
     "name": "stdout",
     "output_type": "stream",
     "text": [
      "(99, 9, 5)\n",
      "[[0.07631954 0.06091371 0.07714702 0.0560059  0.10002833]\n",
      " [0.07774608 0.05221175 0.06768559 0.04568902 0.0837183 ]\n",
      " [0.06704708 0.04423495 0.05021834 0.02947679 0.1101935 ]\n",
      " [0.05135521 0.03335751 0.05167394 0.0375829  0.05673102]\n",
      " [0.06276748 0.04278463 0.06404658 0.04347826 0.0583544 ]\n",
      " [0.06419401 0.03915881 0.06113537 0.04347826 0.04721956]\n",
      " [0.06562054 0.04205946 0.06404658 0.04274134 0.04590125]\n",
      " [0.06562054 0.05148658 0.06695779 0.05011054 0.1086246 ]\n",
      " [0.07417974 0.04786077 0.06914119 0.0486367  0.12761483]]\n",
      "0.0\n",
      "[1. 0. 0.]\n"
     ]
    }
   ],
   "source": [
    "# HW 10-7\n",
    "# 準備測試集資料\n",
    "# 訓練集90% 測試集10%\n",
    "\n",
    "# len_of_test = round(0.1*result.shape[0]) # 0.9*990\n",
    "\n",
    "X_test = result[int(len_of_train):, :-1, 0:5]\n",
    "y_test = result[int(len_of_train):, -1][:, -1]\n",
    "y_test_OneHot = np_utils.to_categorical(y_test)\n",
    "\n",
    "print(X_test.shape)\n",
    "print(X_test[55])\n",
    "print(y_test[55])\n",
    "print(y_test_OneHot[55])"
   ]
  },
  {
   "cell_type": "code",
   "execution_count": 6,
   "id": "335f710c",
   "metadata": {},
   "outputs": [
    {
     "name": "stdout",
     "output_type": "stream",
     "text": [
      "Model: \"sequential\"\n",
      "_________________________________________________________________\n",
      " Layer (type)                Output Shape              Param #   \n",
      "=================================================================\n",
      " lstm (LSTM)                 (None, 9, 256)            268288    \n",
      "                                                                 \n",
      " dropout (Dropout)           (None, 9, 256)            0         \n",
      "                                                                 \n",
      " lstm_1 (LSTM)               (None, 128)               197120    \n",
      "                                                                 \n",
      " dropout_1 (Dropout)         (None, 128)               0         \n",
      "                                                                 \n",
      " dense (Dense)               (None, 16)                2064      \n",
      "                                                                 \n",
      " dense_1 (Dense)             (None, 3)                 51        \n",
      "                                                                 \n",
      "=================================================================\n",
      "Total params: 467,523\n",
      "Trainable params: 467,523\n",
      "Non-trainable params: 0\n",
      "_________________________________________________________________\n"
     ]
    }
   ],
   "source": [
    "# HW 10-8\n",
    "# 建立LSTM模型\n",
    "\n",
    "from keras.models import Sequential\n",
    "from keras.layers.core import Dense, Dropout, Activation\n",
    "from keras.layers import LSTM\n",
    "\n",
    "moooodel = Sequential()\n",
    "moooodel.add(LSTM(256, input_shape=(9, 5), return_sequences=True, activation='tanh'))\n",
    "moooodel.add(Dropout(0.5))\n",
    "moooodel.add(LSTM(128, return_sequences=False, activation='tanh'))\n",
    "moooodel.add(Dropout(0.5))\n",
    "moooodel.add(Dense(units=16, activation='relu'))\n",
    "moooodel.add(Dense(units=3, activation='softmax'))\n",
    "moooodel.summary()"
   ]
  },
  {
   "cell_type": "code",
   "execution_count": 12,
   "id": "f81aeee0",
   "metadata": {},
   "outputs": [
    {
     "name": "stdout",
     "output_type": "stream",
     "text": [
      "Epoch 1/15\n",
      "89/89 - 5s - loss: 0.9136 - accuracy: 0.6124 - val_loss: 0.9538 - val_accuracy: 0.6313 - 5s/epoch - 58ms/step\n",
      "Epoch 2/15\n",
      "89/89 - 2s - loss: 0.9214 - accuracy: 0.6124 - val_loss: 0.9277 - val_accuracy: 0.6313 - 2s/epoch - 20ms/step\n",
      "Epoch 3/15\n",
      "89/89 - 2s - loss: 0.9170 - accuracy: 0.6124 - val_loss: 0.9336 - val_accuracy: 0.6369 - 2s/epoch - 20ms/step\n",
      "Epoch 4/15\n",
      "89/89 - 2s - loss: 0.9110 - accuracy: 0.6138 - val_loss: 0.9948 - val_accuracy: 0.5028 - 2s/epoch - 21ms/step\n",
      "Epoch 5/15\n",
      "89/89 - 2s - loss: 0.9149 - accuracy: 0.6180 - val_loss: 0.9488 - val_accuracy: 0.5251 - 2s/epoch - 20ms/step\n",
      "Epoch 6/15\n",
      "89/89 - 2s - loss: 0.9142 - accuracy: 0.6166 - val_loss: 0.9812 - val_accuracy: 0.5140 - 2s/epoch - 19ms/step\n",
      "Epoch 7/15\n",
      "89/89 - 2s - loss: 0.9146 - accuracy: 0.6096 - val_loss: 0.9578 - val_accuracy: 0.5363 - 2s/epoch - 20ms/step\n",
      "Epoch 8/15\n",
      "89/89 - 2s - loss: 0.9136 - accuracy: 0.6138 - val_loss: 1.0214 - val_accuracy: 0.4749 - 2s/epoch - 19ms/step\n",
      "Epoch 9/15\n",
      "89/89 - 2s - loss: 0.9149 - accuracy: 0.6138 - val_loss: 0.9410 - val_accuracy: 0.6313 - 2s/epoch - 19ms/step\n",
      "Epoch 10/15\n",
      "89/89 - 2s - loss: 0.9125 - accuracy: 0.6110 - val_loss: 0.9347 - val_accuracy: 0.5754 - 2s/epoch - 19ms/step\n",
      "Epoch 11/15\n",
      "89/89 - 2s - loss: 0.9090 - accuracy: 0.6152 - val_loss: 1.0053 - val_accuracy: 0.4804 - 2s/epoch - 19ms/step\n",
      "Epoch 12/15\n",
      "89/89 - 2s - loss: 0.9133 - accuracy: 0.6194 - val_loss: 1.0465 - val_accuracy: 0.4860 - 2s/epoch - 19ms/step\n",
      "Epoch 13/15\n",
      "89/89 - 2s - loss: 0.9123 - accuracy: 0.6166 - val_loss: 0.9388 - val_accuracy: 0.5810 - 2s/epoch - 19ms/step\n",
      "Epoch 14/15\n",
      "89/89 - 2s - loss: 0.9058 - accuracy: 0.6180 - val_loss: 0.9562 - val_accuracy: 0.5419 - 2s/epoch - 19ms/step\n",
      "Epoch 15/15\n",
      "89/89 - 2s - loss: 0.9037 - accuracy: 0.6194 - val_loss: 0.9527 - val_accuracy: 0.5307 - 2s/epoch - 19ms/step\n",
      "4/4 [==============================] - 0s 13ms/step - loss: 1.1040 - accuracy: 0.2929\n",
      "0.2929292917251587\n"
     ]
    }
   ],
   "source": [
    "moooodel.compile(loss='categorical_crossentropy', optimizer='adam', metrics=['accuracy'])\n",
    "history = moooodel.fit(X_train, y_train_OneHot, batch_size=8, epochs=15, validation_split=0.2, verbose=2)\n",
    "score = moooodel.evaluate(X_test, y_test_OneHot)\n",
    "print(score[1])"
   ]
  },
  {
   "cell_type": "code",
   "execution_count": 13,
   "id": "7afe435a",
   "metadata": {},
   "outputs": [
    {
     "data": {
      "image/png": "[encoded data removed]",
      "text/plain": [
       "<Figure size 800x600 with 1 Axes>"
      ]
     },
     "metadata": {},
     "output_type": "display_data"
    },
    {
     "data": {
      "image/png": "[encoded data removed]",
      "text/plain": [
       "<Figure size 800x600 with 1 Axes>"
      ]
     },
     "metadata": {},
     "output_type": "display_data"
    }
   ],
   "source": [
    "import matplotlib.pyplot as plt\n",
    "# ----------\n",
    "train_acc = history.history['accuracy']\n",
    "val_acc = history.history['val_accuracy']\n",
    "epoch_count = range(1, len(train_acc) + 1)\n",
    "plt.figure(figsize=(8, 6))\n",
    "plt.ylim(0.0, 1.2)\n",
    "plt.plot(epoch_count, train_acc, 'r--')\n",
    "plt.plot(epoch_count, val_acc, 'b-')\n",
    "plt.title('Model Accuracy')\n",
    "plt.legend(['Train Acc', 'Val Acc'], loc='upper left')\n",
    "plt.xlabel('Epoch')\n",
    "plt.ylabel('Accuracy')\n",
    "plt.show()\n",
    "# ----------\n",
    "train_loss = history.history['loss']\n",
    "val_loss = history.history['val_loss']\n",
    "epoch_count = range(1, len(train_loss) + 1)\n",
    "plt.figure(figsize=(8, 6))\n",
    "plt.ylim(0, 10)\n",
    "plt.plot(epoch_count, train_loss, 'r--')\n",
    "plt.plot(epoch_count, val_loss, 'b-')\n",
    "plt.title('Model Loss')\n",
    "plt.legend(['Train Loss', 'Val Loss'], loc='upper left')\n",
    "plt.xlabel('Epoch')\n",
    "plt.ylabel('Loss')\n",
    "plt.show()"
   ]
  },
  {
   "cell_type": "code",
   "execution_count": 14,
   "id": "33c3b225",
   "metadata": {},
   "outputs": [
    {
     "name": "stdout",
     "output_type": "stream",
     "text": [
      "4/4 [==============================] - 1s 13ms/step\n"
     ]
    },
    {
     "data": {
      "text/plain": [
       "Text(0.5, 3.722222222222216, 'Predict label')"
      ]
     },
     "execution_count": 14,
     "metadata": {},
     "output_type": "execute_result"
    },
    {
     "data": {
      "image/png": "[encoded data removed]",
      "text/plain": [
       "<Figure size 400x300 with 2 Axes>"
      ]
     },
     "metadata": {},
     "output_type": "display_data"
    }
   ],
   "source": [
    "# 給老師參考\n",
    "# 超漂亮的分類結果混淆矩陣OuO!!!\n",
    "\n",
    "import sklearn.metrics as skm\n",
    "import seaborn as sns\n",
    "# ----------\n",
    "y_pred = np.argmax(moooodel.predict(X_test), axis=1)\n",
    "y_true = y_test\n",
    "cm = skm.confusion_matrix(y_true=y_true, y_pred=y_pred)\n",
    "plt.figure(figsize=(4, 3))\n",
    "labels=[-1, 0, 1]\n",
    "sns.heatmap(\n",
    "    cm, xticklabels=labels, yticklabels=labels,\n",
    "    annot=True, linewidths=0.1, fmt='d', cmap='YlGnBu')\n",
    "plt.title('Confusion Matrix', fontsize=15)\n",
    "plt.ylabel('Actual label')\n",
    "plt.xlabel('Predict label')"
   ]
  },
  {
   "cell_type": "code",
   "execution_count": 29,
   "id": "1f0f100c",
   "metadata": {},
   "outputs": [
    {
     "ename": "ValueError",
     "evalue": "The truth value of an array with more than one element is ambiguous. Use a.any() or a.all()",
     "output_type": "error",
     "traceback": [
      "\u001b[1;31m---------------------------------------------------------------------------\u001b[0m",
      "\u001b[1;31mValueError\u001b[0m                                Traceback (most recent call last)",
      "\u001b[1;32m~\\AppData\\Local\\Temp\\ipykernel_1484\\3945140131.py\u001b[0m in \u001b[0;36m<module>\u001b[1;34m\u001b[0m\n\u001b[0;32m      2\u001b[0m \u001b[0mlabels\u001b[0m\u001b[1;33m=\u001b[0m\u001b[1;33m[\u001b[0m\u001b[1;33m-\u001b[0m\u001b[1;36m1\u001b[0m\u001b[1;33m,\u001b[0m \u001b[1;36m1\u001b[0m\u001b[1;33m]\u001b[0m\u001b[1;33m\u001b[0m\u001b[1;33m\u001b[0m\u001b[0m\n\u001b[0;32m      3\u001b[0m \u001b[0mcm\u001b[0m \u001b[1;33m=\u001b[0m \u001b[0mskm\u001b[0m\u001b[1;33m.\u001b[0m\u001b[0mconfusion_matrix\u001b[0m\u001b[1;33m(\u001b[0m\u001b[0my_true\u001b[0m\u001b[1;33m=\u001b[0m\u001b[0my_true\u001b[0m\u001b[1;33m,\u001b[0m \u001b[0my_pred\u001b[0m\u001b[1;33m=\u001b[0m\u001b[0my_pred\u001b[0m\u001b[1;33m)\u001b[0m\u001b[1;33m\u001b[0m\u001b[1;33m\u001b[0m\u001b[0m\n\u001b[1;32m----> 4\u001b[1;33m \u001b[0mindices\u001b[0m \u001b[1;33m=\u001b[0m \u001b[1;33m[\u001b[0m\u001b[0mi\u001b[0m \u001b[1;32mfor\u001b[0m \u001b[0mi\u001b[0m\u001b[1;33m,\u001b[0m \u001b[0mlabel\u001b[0m \u001b[1;32min\u001b[0m \u001b[0menumerate\u001b[0m\u001b[1;33m(\u001b[0m\u001b[0mcm\u001b[0m\u001b[1;33m)\u001b[0m \u001b[1;32mif\u001b[0m \u001b[0mlabel\u001b[0m \u001b[1;32min\u001b[0m \u001b[0mlabels\u001b[0m\u001b[1;33m]\u001b[0m\u001b[1;33m\u001b[0m\u001b[1;33m\u001b[0m\u001b[0m\n\u001b[0m\u001b[0;32m      5\u001b[0m \u001b[0mfiltered_cm\u001b[0m \u001b[1;33m=\u001b[0m \u001b[0mcm\u001b[0m\u001b[1;33m[\u001b[0m\u001b[0mindices\u001b[0m\u001b[1;33m]\u001b[0m\u001b[1;33m[\u001b[0m\u001b[1;33m:\u001b[0m\u001b[1;33m,\u001b[0m \u001b[0mindices\u001b[0m\u001b[1;33m]\u001b[0m\u001b[1;33m\u001b[0m\u001b[1;33m\u001b[0m\u001b[0m\n\u001b[0;32m      6\u001b[0m \u001b[0mplt\u001b[0m\u001b[1;33m.\u001b[0m\u001b[0mfigure\u001b[0m\u001b[1;33m(\u001b[0m\u001b[0mfigsize\u001b[0m\u001b[1;33m=\u001b[0m\u001b[1;33m(\u001b[0m\u001b[1;36m4\u001b[0m\u001b[1;33m,\u001b[0m \u001b[1;36m3\u001b[0m\u001b[1;33m)\u001b[0m\u001b[1;33m)\u001b[0m\u001b[1;33m\u001b[0m\u001b[1;33m\u001b[0m\u001b[0m\n",
      "\u001b[1;32m~\\AppData\\Local\\Temp\\ipykernel_1484\\3945140131.py\u001b[0m in \u001b[0;36m<listcomp>\u001b[1;34m(.0)\u001b[0m\n\u001b[0;32m      2\u001b[0m \u001b[0mlabels\u001b[0m\u001b[1;33m=\u001b[0m\u001b[1;33m[\u001b[0m\u001b[1;33m-\u001b[0m\u001b[1;36m1\u001b[0m\u001b[1;33m,\u001b[0m \u001b[1;36m1\u001b[0m\u001b[1;33m]\u001b[0m\u001b[1;33m\u001b[0m\u001b[1;33m\u001b[0m\u001b[0m\n\u001b[0;32m      3\u001b[0m \u001b[0mcm\u001b[0m \u001b[1;33m=\u001b[0m \u001b[0mskm\u001b[0m\u001b[1;33m.\u001b[0m\u001b[0mconfusion_matrix\u001b[0m\u001b[1;33m(\u001b[0m\u001b[0my_true\u001b[0m\u001b[1;33m=\u001b[0m\u001b[0my_true\u001b[0m\u001b[1;33m,\u001b[0m \u001b[0my_pred\u001b[0m\u001b[1;33m=\u001b[0m\u001b[0my_pred\u001b[0m\u001b[1;33m)\u001b[0m\u001b[1;33m\u001b[0m\u001b[1;33m\u001b[0m\u001b[0m\n\u001b[1;32m----> 4\u001b[1;33m \u001b[0mindices\u001b[0m \u001b[1;33m=\u001b[0m \u001b[1;33m[\u001b[0m\u001b[0mi\u001b[0m \u001b[1;32mfor\u001b[0m \u001b[0mi\u001b[0m\u001b[1;33m,\u001b[0m \u001b[0mlabel\u001b[0m \u001b[1;32min\u001b[0m \u001b[0menumerate\u001b[0m\u001b[1;33m(\u001b[0m\u001b[0mcm\u001b[0m\u001b[1;33m)\u001b[0m \u001b[1;32mif\u001b[0m \u001b[0mlabel\u001b[0m \u001b[1;32min\u001b[0m \u001b[0mlabels\u001b[0m\u001b[1;33m]\u001b[0m\u001b[1;33m\u001b[0m\u001b[1;33m\u001b[0m\u001b[0m\n\u001b[0m\u001b[0;32m      5\u001b[0m \u001b[0mfiltered_cm\u001b[0m \u001b[1;33m=\u001b[0m \u001b[0mcm\u001b[0m\u001b[1;33m[\u001b[0m\u001b[0mindices\u001b[0m\u001b[1;33m]\u001b[0m\u001b[1;33m[\u001b[0m\u001b[1;33m:\u001b[0m\u001b[1;33m,\u001b[0m \u001b[0mindices\u001b[0m\u001b[1;33m]\u001b[0m\u001b[1;33m\u001b[0m\u001b[1;33m\u001b[0m\u001b[0m\n\u001b[0;32m      6\u001b[0m \u001b[0mplt\u001b[0m\u001b[1;33m.\u001b[0m\u001b[0mfigure\u001b[0m\u001b[1;33m(\u001b[0m\u001b[0mfigsize\u001b[0m\u001b[1;33m=\u001b[0m\u001b[1;33m(\u001b[0m\u001b[1;36m4\u001b[0m\u001b[1;33m,\u001b[0m \u001b[1;36m3\u001b[0m\u001b[1;33m)\u001b[0m\u001b[1;33m)\u001b[0m\u001b[1;33m\u001b[0m\u001b[1;33m\u001b[0m\u001b[0m\n",
      "\u001b[1;31mValueError\u001b[0m: The truth value of an array with more than one element is ambiguous. Use a.any() or a.all()"
     ]
    }
   ],
   "source": [
    "# confusion_matrix_for_labels(y_true, y_pred, labels):\n",
    "labels=[-1, 1]\n",
    "cm = skm.confusion_matrix(y_true=y_true, y_pred=y_pred)\n",
    "indices = [i for i, label in enumerate(cm) if label in labels]\n",
    "filtered_cm = cm[indices][:, indices]\n",
    "plt.figure(figsize=(4, 3))\n",
    "sns.heatmap(\n",
    "    filtered_cm, xticklabels=labels, yticklabels=labels,\n",
    "    annot=True, linewidths=0.1, fmt='d', cmap='YlGnBu')\n",
    "plt.title('Confusion Matrix', fontsize=15)\n",
    "plt.ylabel('Actual label')\n",
    "plt.xlabel('Predict label')"
   ]
  },
  {
   "cell_type": "code",
   "execution_count": 15,
   "id": "fb413d65",
   "metadata": {},
   "outputs": [],
   "source": [
    "moooodel.save(\"LSTMmodel.h5\")"
   ]
  },
  {
   "cell_type": "code",
   "execution_count": 16,
   "id": "1020c5ee",
   "metadata": {},
   "outputs": [
    {
     "name": "stdout",
     "output_type": "stream",
     "text": [
      "4/4 [==============================] - 1s 13ms/step\n",
      "[2 2 2 2 2 2 2 2 2 2 2 2 2 2 2 2 2 2 2 1 1 2 2 2 2 2 2 2 2 2 2 2 1 1 1 2 2\n",
      " 2 2 1 2 2 2 2 2 2 1 1 2 2 2 2 2 2 2 2 2 2 1 2 2 2 2 2 2 2 2 2 2 2 2 2 2 2\n",
      " 2 1 2 2 2 2 2 2 2 2 2 2 2 1 1 1 1 1 1 2 2 2 2 2 2]\n",
      "[1. 2. 2. 2. 2. 1. 1. 1. 1. 1. 1. 1. 1. 1. 0. 1. 1. 2. 2. 1. 1. 1. 1. 1.\n",
      " 2. 2. 2. 2. 1. 1. 1. 1. 0. 0. 0. 0. 1. 1. 1. 1. 1. 1. 1. 0. 0. 0. 1. 1.\n",
      " 2. 1. 1. 2. 1. 1. 1. 0. 1. 1. 1. 1. 1. 0. 0. 1. 1. 2. 2. 2. 2. 1. 2. 1.\n",
      " 1. 1. 1. 1. 1. 1. 1. 1. 1. 1. 1. 1. 1. 0. 0. 0. 0. 1. 1. 1. 1. 2. 1. 1.\n",
      " 0. 0. 0.]\n"
     ]
    }
   ],
   "source": [
    "from tensorflow.keras.models import load_model\n",
    "model = load_model(\"LSTMmodel.h5\")\n",
    "y_pred = np.argmax(model.predict(X_test), axis=1)\n",
    "y_true = y_test\n",
    "print(y_pred)\n",
    "print(y_true)"
   ]
  },
  {
   "cell_type": "code",
   "execution_count": null,
   "id": "29786ed8",
   "metadata": {},
   "outputs": [],
   "source": []
  }
 ],
 "metadata": {
  "kernelspec": {
   "display_name": "Python 3 (ipykernel)",
   "language": "python",
   "name": "python3"
  },
  "language_info": {
   "codemirror_mode": {
    "name": "ipython",
    "version": 3
   },
   "file_extension": ".py",
   "mimetype": "text/x-python",
   "name": "python",
   "nbconvert_exporter": "python",
   "pygments_lexer": "ipython3",
   "version": "3.7.13"
  }
 },
 "nbformat": 4,
 "nbformat_minor": 5
}
